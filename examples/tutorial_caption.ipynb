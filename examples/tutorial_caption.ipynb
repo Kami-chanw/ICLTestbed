{
 "cells": [
  {
   "cell_type": "markdown",
   "metadata": {},
   "source": [
    "# Evaluate Image Captioning on Idefics2 Model\n",
    "\n",
    "In this tutorial, we will show step by step how to use `ICLTestbed` for model inference and evaluation.\n",
    "\n",
    "Let's take Idefics2 as an example. Idefics2 is a general multimodal model that takes as input arbitrary sequences of texts and images, and generates text responses. The more details about Idefics2 can be found in following ways:\n",
    "\n",
    "[paper](https://arxiv.org/abs/2405.02246) [blog](https://huggingface.co/blog/idefics2) [official-code](https://github.com/huggingface/transformers/tree/main/src/transformers/models/idefics2)\n",
    "\n",
    "## Step 1. Data Loading\n",
    "Load dataset by `datasets` library. You can load official datasets or use a custom loading script. For convenience, I suggest you put all the path-related content in [config.py](../config.py)\n",
    "\n",
    "If you have more than one GPU and want to use multiple GPUs, you need to set the environment variable `CUDA_VISIBLE_DEVICE`, which is already done in [config.py](../config.py).\n",
    "\n",
    "`testbed.data.prepare_dataloader` will use the given dataset and the sampler in PyTorch to generate a dataloader that can produce batches of size `batch_size`, each batch has `num_shots + 1` question-answer pairs."
   ]
  },
  {
   "cell_type": "code",
   "execution_count": null,
   "metadata": {},
   "outputs": [],
   "source": [
    "from datasets import load_dataset\n",
    "import sys\n",
    "\n",
    "sys.path.insert(0, \"..\")\n",
    "from testbed.data.utils import prepare_dataloader\n",
    "from torch.utils.data.sampler import RandomSampler\n",
    "import config\n",
    "\n",
    "dataset = load_dataset(\n",
    "    \"../testbed/data/coco\",\n",
    "    split=\"validation\",\n",
    "    data_dir=config.karpathy_coco_caption_dir,\n",
    "    images_dir=config.coco_dir,\n",
    "    trust_remote_code=True,\n",
    ")\n",
    "\n",
    "hparams = {\n",
    "    \"batch_size\": 1,\n",
    "    \"num_shots\": 2,\n",
    "    \"precision\": \"bf16\",\n",
    "    \"generate_args\": {\"num_beams\": 3, \"max_new_tokens\": 5},\n",
    "}\n",
    "\n",
    "dataloader = prepare_dataloader(\n",
    "    dataset, batch_size=hparams[\"batch_size\"], num_shots=hparams[\"num_shots\"], sampler=RandomSampler(dataset)\n",
    ")\n"
   ]
  },
  {
   "cell_type": "markdown",
   "metadata": {},
   "source": [
    "## Step 2. Model Building\n",
    "The model in ICLTestbed can be roughly regarded as a simple combination of a processor and a specific model. You can access underlying processor or model by `model.processor` or `model.model`."
   ]
  },
  {
   "cell_type": "code",
   "execution_count": null,
   "metadata": {},
   "outputs": [],
   "source": [
    "from testbed.models import Idefics2\n",
    "import torch\n",
    "\n",
    "device = torch.device(\"cuda:0\")\n",
    "model = Idefics2(\n",
    "    config.idefics2_8b_base_path,\n",
    "    precision=hparams[\"precision\"],\n",
    "    device=device,\n",
    ")"
   ]
  },
  {
   "cell_type": "markdown",
   "metadata": {},
   "source": [
    "## Step 3. Inference\n",
    "You can get batches by iterating over the dataloader, and then use the `prepare_*_input` methods (depending on a specific task) in `testbed.data` to convert the batches into model inputs according to the specific task. The model input here should usually be a `list` of `dict`. For example, for a 1-shot context, \n",
    "```python\n",
    "[\n",
    "    {\n",
    "        \"role\": \"\",\n",
    "        \"content\": [\n",
    "            {\"type\": \"image\"}\n",
    "        ],\n",
    "    },\n",
    "    {\n",
    "        \"role\": \"caption\",\n",
    "        \"content\": [\n",
    "            {\n",
    "                \"type\": \"text\",\n",
    "                \"text\": \"In this image, we can see the city of New York, and more specifically the Statue of Liberty.\",\n",
    "            },\n",
    "        ],\n",
    "    },\n",
    "    {\n",
    "        \"role\": \"\",\n",
    "        \"content\": [\n",
    "            {\"type\": \"image\"}\n",
    "        ],\n",
    "    },\n",
    "    {\n",
    "        \"role\": \"caption\"\n",
    "    }\n",
    "]\n",
    "```\n",
    "\n",
    "It will be transformed to the real prompt by `model.apply_prompt_template` which is a step in `model.generate`. `apply_prompt_template` is an alias for [`apply_chat_template`](https://huggingface.co/docs/transformers/main/chat_templating).\n",
    "\n",
    "After getting the model output, you need to do post-processing generation to clean and extract what answer should be. This is a dataset-dependent method, that is, different datasets have different post-processing styles.\n",
    "\n",
    "For visual question answering task, it use vqa accuracy to evaluate, which has already been implemented with [`evaluate`](https://huggingface.co/docs/evaluate/index) library from hugging face."
   ]
  }
 ],
 "metadata": {
  "kernelspec": {
   "display_name": "icl",
   "language": "python",
   "name": "python3"
  },
  "language_info": {
   "codemirror_mode": {
    "name": "ipython",
    "version": 3
   },
   "file_extension": ".py",
   "mimetype": "text/x-python",
   "name": "python",
   "nbconvert_exporter": "python",
   "pygments_lexer": "ipython3",
   "version": "3.9.19"
  }
 },
 "nbformat": 4,
 "nbformat_minor": 2
}
