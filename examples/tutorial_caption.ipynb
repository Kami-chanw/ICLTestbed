{
 "cells": [
  {
   "cell_type": "markdown",
   "metadata": {},
   "source": [
    "# Evaluate Image Captioning on Idefics2 Model\n",
    "\n",
    "In this tutorial, we will show step by step how to use `ICLTestbed` for model inference and evaluation.\n",
    "\n",
    "Let's take Idefics2 as an example. Idefics2 is a general multimodal model that takes as input arbitrary sequences of texts and images, and generates text responses. The more details about Idefics2 can be found in following ways:\n",
    "\n",
    "[paper](https://arxiv.org/abs/2405.02246) [blog](https://huggingface.co/blog/idefics2) [official-code](https://github.com/huggingface/transformers/tree/main/src/transformers/models/idefics2)\n",
    "\n",
    "## Step 1. Data Loading\n",
    "Load dataset by `datasets` library. You can load official datasets or use a custom loading script.\n",
    "\n",
    "`testbed.data.utils.prepare_dataloader` will use the given dataset and the sampler in PyTorch to generate a dataloader that can produce batches of size `batch_size`, each batch has `num_shots + 1` question-answer pairs.\n",
    "\n",
    "This is slightly different from the [VQA tutorial](./tutorial_vqa.ipynb) in that we extract in-context examples from the training set and queries from the validation set."
   ]
  },
  {
   "cell_type": "code",
   "execution_count": 1,
   "metadata": {},
   "outputs": [
    {
     "name": "stderr",
     "output_type": "stream",
     "text": [
      "/data1/jyc/miniconda3/envs/icl/lib/python3.12/site-packages/tqdm/auto.py:21: TqdmWarning: IProgress not found. Please update jupyter and ipywidgets. See https://ipywidgets.readthedocs.io/en/stable/user_install.html\n",
      "  from .autonotebook import tqdm as notebook_tqdm\n"
     ]
    }
   ],
   "source": [
    "import torch\n",
    "import os\n",
    "import sys\n",
    "from datasets import load_dataset\n",
    "\n",
    "sys.path.insert(0, \"..\")\n",
    "from testbed.data import prepare_dataloader\n",
    "\n",
    "coco_cap_dir = \"path/to/coco/caption/dir\"\n",
    "images_dir = \"path/to/mscoco\"\n",
    "model_path = \"path/to/idefics2-8b-base\"\n",
    "\n",
    "dataset = load_dataset(\n",
    "    os.path.join(\"..\", \"testbed\", \"data\", \"coco\"),\n",
    "    data_dir=coco_cap_dir,\n",
    "    images_dir=images_dir,\n",
    "    trust_remote_code=True,\n",
    ")\n",
    "\n",
    "hparams = {\n",
    "    \"batch_size\": 1,\n",
    "    \"num_shots\": 2,\n",
    "    \"dtype\": torch.bfloat16,\n",
    "    \"generate_args\": {\"num_beams\": 3, \"max_new_tokens\": 20},\n",
    "}\n",
    "\n",
    "dataloader = prepare_dataloader(\n",
    "    [dataset[\"train\"], dataset[\"validation\"]],\n",
    "    batch_size=hparams[\"batch_size\"],\n",
    "    num_shots=hparams[\"num_shots\"],\n",
    "    num_per_dataset=[hparams[\"num_shots\"], 1],\n",
    "    shuffle=True,\n",
    ")"
   ]
  },
  {
   "cell_type": "markdown",
   "metadata": {},
   "source": [
    "## Step 2. Model Building\n",
    "The model in ICLTestbed can be roughly regarded as a simple combination of a processor and a specific model. You can access underlying processor or model by `model.processor` or `model.model`."
   ]
  },
  {
   "cell_type": "code",
   "execution_count": 3,
   "metadata": {},
   "outputs": [
    {
     "name": "stderr",
     "output_type": "stream",
     "text": [
      "Loading checkpoint shards: 100%|██████████| 7/7 [04:06<00:00, 35.18s/it]\n"
     ]
    }
   ],
   "source": [
    "from testbed.models import Idefics2\n",
    "import torch\n",
    "\n",
    "device = torch.device(\"cuda\")\n",
    "model = Idefics2(model_path, torch_dtype=hparams[\"dtype\"]).to(device)"
   ]
  },
  {
   "cell_type": "markdown",
   "metadata": {},
   "source": [
    "## Step 3. Inference\n",
    "You can get batches by iterating over the dataloader, and then use the `prepare_input` methods (depending on a specific task) in `testbed.data` to convert the batches into model inputs according to the specific task. The model input here should usually be a `list` of `dict`. For example, for a 1-shot context, \n",
    "```python\n",
    "[\n",
    "    {\n",
    "        \"role\": \"image\",\n",
    "        \"content\": [\n",
    "            {\"type\": \"image\"}\n",
    "        ],\n",
    "    },\n",
    "    {\n",
    "        \"role\": \"caption\",\n",
    "        \"content\": [\n",
    "            {\n",
    "                \"type\": \"text\",\n",
    "                \"text\": \"In this image, we can see the city of New York, and more specifically the Statue of Liberty.\",\n",
    "            },\n",
    "        ],\n",
    "    },\n",
    "    {\n",
    "        \"role\": \"image\",\n",
    "        \"content\": [\n",
    "            {\"type\": \"image\"}\n",
    "        ],\n",
    "    },\n",
    "    {\n",
    "        \"role\": \"caption\"\n",
    "    }\n",
    "]\n",
    "```\n",
    "\n",
    "It will be transformed to the real prompt by `model.apply_prompt_template` which is a step in `model.process_input`. `apply_prompt_template` is an alias for [`apply_chat_template`](https://huggingface.co/docs/transformers/main/chat_templating).\n",
    "\n",
    "After getting the model output, you need to do post-processing generation to clean and extract what answer should be. This is a dataset-dependent method, that is, different datasets have different post-processing styles."
   ]
  },
  {
   "cell_type": "code",
   "execution_count": 4,
   "metadata": {},
   "outputs": [
    {
     "name": "stdout",
     "output_type": "stream",
     "text": [
      "['Image:<image> Caption: A restaurant has modern wooden tables and chairs.\\nImage:<image> Caption: A man preparing desserts in a kitchen covered in frosting.\\nImage:<image> Caption:']\n"
     ]
    },
    {
     "name": "stderr",
     "output_type": "stream",
     "text": [
      "Starting from v4.46, the `logits` model output will have the same type as the model (except at train time, where it will always be FP32)\n"
     ]
    },
    {
     "name": "stdout",
     "output_type": "stream",
     "text": [
      "['A young boy holds an umbrella over his head as he sells']\n",
      "['A child holding a flowered umbrella and petting a yak.', 'A young man holding an umbrella next to a herd of cattle.', 'a young boy barefoot holding an umbrella touching the horn of a cow', 'A young boy with an umbrella who is touching the horn of a cow.', 'A boy holding an umbrella while standing next to livestock.']\n"
     ]
    }
   ],
   "source": [
    "from testbed.data import postprocess_generation, prepare_input\n",
    "\n",
    "batch = next(iter(dataloader))\n",
    "single_context = batch[0]\n",
    "text, images = prepare_input(\"coco\", [single_context])\n",
    "print(model.apply_prompt_template(text))\n",
    "raw_output = model.generate(text, images, max_new_tokens=15, num_beams=5)\n",
    "prediction = postprocess_generation(\"coco\", raw_output)\n",
    "print(prediction)\n",
    "print(single_context[-1][\"sentences_raw\"]) # gt"
   ]
  },
  {
   "cell_type": "markdown",
   "metadata": {},
   "source": [
    "## Step 4. Evaluate\n",
    "For image captioning task, it uses [CIDEr](../testbed/evaluate/metrics/CIDEr/CIDEr.py) to evaluate, which has already been implemented with [`evaluate`](https://huggingface.co/docs/evaluate/index) library that comes from hugging face. It is thoroughly tested to ensure full consistency with the [official CIDEr implementation](https://github.com/tylin/coco-caption), see [test script](../tests/CIDEr/test_CIDEr.py).\n",
    "\n",
    "Thanks to huggingface space, you can also check [here](https://huggingface.co/spaces/Kamichanw/CIDEr) to try `CIDEr` online."
   ]
  },
  {
   "cell_type": "code",
   "execution_count": null,
   "metadata": {},
   "outputs": [],
   "source": [
    "from tqdm import tqdm\n",
    "import evaluate\n",
    "\n",
    "total_cider = evaluate.load(\"Kamichanw/CIDEr\")\n",
    "result = []\n",
    "\n",
    "# for simplicity, just run 10 batches\n",
    "for i, batch in zip(\n",
    "    range(10), tqdm(dataloader, desc=f\"Evaluating {model.model_name} ...\")\n",
    "):\n",
    "    text, images = prepare_input(\"coco\", batch)\n",
    "    predictions = model.generate(text, images, **hparams[\"generate_args\"])\n",
    "    for pred, context in zip(predictions, batch):\n",
    "        last_cap = context[-1]\n",
    "        gt_captions = last_cap[\"sentences_raw\"]\n",
    "        prediction = postprocess_generation(\"coco\", pred)\n",
    "        total_cider.add(prediction=prediction, reference=gt_captions)\n",
    "        result.append(\n",
    "            {\n",
    "                \"cocoid\": last_cap[\"cocoid\"],\n",
    "                \"raw_output\": pred,\n",
    "                \"filename\": last_cap[\"filename\"],\n",
    "                \"sentences\": last_cap[\"sentences_raw\"],\n",
    "                \"prediction\": prediction,\n",
    "            }\n",
    "        )\n",
    "\n",
    "eval_result = total_cider.compute()\n",
    "eval_result"
   ]
  },
  {
   "cell_type": "markdown",
   "metadata": {},
   "source": [
    "## Step 4. Save Results\n",
    "With the help of `evaluate.save`, we are able to save result and other hyper parameters to a json file."
   ]
  },
  {
   "cell_type": "code",
   "execution_count": null,
   "metadata": {},
   "outputs": [],
   "source": [
    "hparams[\"dtype\"] = str(hparams[\"dtype\"])\n",
    "evaluate.save(\"./\", eval_result=eval_result, hparams=hparams, records=result)"
   ]
  }
 ],
 "metadata": {
  "kernelspec": {
   "display_name": "icl",
   "language": "python",
   "name": "python3"
  },
  "language_info": {
   "codemirror_mode": {
    "name": "ipython",
    "version": 3
   },
   "file_extension": ".py",
   "mimetype": "text/x-python",
   "name": "python",
   "nbconvert_exporter": "python",
   "pygments_lexer": "ipython3",
   "version": "3.12.5"
  }
 },
 "nbformat": 4,
 "nbformat_minor": 2
}
