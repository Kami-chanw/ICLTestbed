{
 "cells": [
  {
   "cell_type": "markdown",
   "metadata": {},
   "source": [
    "# Evaluate Image Captioning on Idefics2 Model\n",
    "\n",
    "In this tutorial, we will show step by step how to use `ICLTestbed` for model inference and evaluation.\n",
    "\n",
    "Let's take Idefics2 as an example. Idefics2 is a general multimodal model that takes as input arbitrary sequences of texts and images, and generates text responses. The more details about Idefics2 can be found in following ways:\n",
    "\n",
    "[paper](https://arxiv.org/abs/2405.02246) [blog](https://huggingface.co/blog/idefics2) [official-code](https://github.com/huggingface/transformers/tree/main/src/transformers/models/idefics2)\n",
    "\n",
    "## Step 1. Data Loading\n",
    "Load dataset by `datasets` library. You can load official datasets or use a custom loading script. For convenience, I suggest you put all the path-related content in [config.py](../config.py)\n",
    "\n",
    "If you have more than one GPU and want to use multiple GPUs, you need to set the environment variable `CUDA_VISIBLE_DEVICE`, which is already done in [config.py](../config.py).\n",
    "\n",
    "`testbed.data.utils.prepare_dataloader` will use the given dataset and the sampler in PyTorch to generate a dataloader that can produce batches of size `batch_size`, each batch has `num_shots + 1` question-answer pairs.\n",
    "\n",
    "This is slightly different from the [VQA tutorial](./tutorial_vqa.ipynb) in that we extract in-context examples from the training set and queries from the validation set."
   ]
  },
  {
   "cell_type": "code",
   "execution_count": 3,
   "metadata": {},
   "outputs": [],
   "source": [
    "from datasets import load_dataset\n",
    "import sys\n",
    "\n",
    "sys.path.insert(0, \"..\")\n",
    "from testbed.data.utils import prepare_dataloader\n",
    "import config\n",
    "\n",
    "dataset = load_dataset(\n",
    "    \"../testbed/data/coco\",\n",
    "    data_dir=config.karpathy_coco_caption_dir,\n",
    "    images_dir=config.coco_dir,\n",
    "    trust_remote_code=True,\n",
    ")\n",
    "\n",
    "hparams = {\n",
    "    \"batch_size\": 1,\n",
    "    \"num_shots\": 2,\n",
    "    \"precision\": \"bf16\",\n",
    "    \"generate_args\": {\"num_beams\": 3, \"max_new_tokens\": 20},\n",
    "}\n",
    "\n",
    "dataloader = prepare_dataloader(\n",
    "    [dataset[\"train\"], dataset[\"validation\"]],\n",
    "    batch_size=hparams[\"batch_size\"],\n",
    "    num_shots=hparams[\"num_shots\"],\n",
    "    num_per_dataset=[hparams[\"num_shots\"], 1],\n",
    "    shuffle=True,\n",
    ")"
   ]
  },
  {
   "cell_type": "markdown",
   "metadata": {},
   "source": [
    "## Step 2. Model Building\n",
    "The model in ICLTestbed can be roughly regarded as a simple combination of a processor and a specific model. You can access underlying processor or model by `model.processor` or `model.model`."
   ]
  },
  {
   "cell_type": "code",
   "execution_count": 4,
   "metadata": {},
   "outputs": [
    {
     "data": {
      "application/vnd.jupyter.widget-view+json": {
       "model_id": "47ebb86ea1c94f65862fd65cd15a0b51",
       "version_major": 2,
       "version_minor": 0
      },
      "text/plain": [
       "Loading checkpoint shards:   0%|          | 0/7 [00:00<?, ?it/s]"
      ]
     },
     "metadata": {},
     "output_type": "display_data"
    }
   ],
   "source": [
    "from testbed.models import Idefics2\n",
    "import torch\n",
    "\n",
    "device = torch.device(\"cuda:0\")\n",
    "model = Idefics2(\n",
    "    config.idefics2_8b_base_path,\n",
    "    precision=hparams[\"precision\"],\n",
    "    device=device,\n",
    ")"
   ]
  },
  {
   "cell_type": "markdown",
   "metadata": {},
   "source": [
    "## Step 3. Inference\n",
    "You can get batches by iterating over the dataloader, and then use the `prepare_*_input` methods (depending on a specific task) in `testbed.data` to convert the batches into model inputs according to the specific task. The model input here should usually be a `list` of `dict`. For example, for a 1-shot context, \n",
    "```python\n",
    "[\n",
    "    {\n",
    "        \"role\": \"\",\n",
    "        \"content\": [\n",
    "            {\"type\": \"image\"}\n",
    "        ],\n",
    "    },\n",
    "    {\n",
    "        \"role\": \"caption\",\n",
    "        \"content\": [\n",
    "            {\n",
    "                \"type\": \"text\",\n",
    "                \"text\": \"In this image, we can see the city of New York, and more specifically the Statue of Liberty.\",\n",
    "            },\n",
    "        ],\n",
    "    },\n",
    "    {\n",
    "        \"role\": \"\",\n",
    "        \"content\": [\n",
    "            {\"type\": \"image\"}\n",
    "        ],\n",
    "    },\n",
    "    {\n",
    "        \"role\": \"caption\"\n",
    "    }\n",
    "]\n",
    "```\n",
    "\n",
    "It will be transformed to the real prompt by `model.apply_prompt_template` which is a step in `model.generate`. `apply_prompt_template` is an alias for [`apply_chat_template`](https://huggingface.co/docs/transformers/main/chat_templating).\n",
    "\n",
    "After getting the model output, you need to do post-processing generation to clean and extract what answer should be. This is a dataset-dependent method, that is, different datasets have different post-processing styles."
   ]
  },
  {
   "cell_type": "code",
   "execution_count": 16,
   "metadata": {},
   "outputs": [
    {
     "name": "stdout",
     "output_type": "stream",
     "text": [
      "[{'image': <PIL.JpegImagePlugin.JpegImageFile image mode=RGB size=640x480 at 0x7F15500657F0>, 'filepath': 'COCO_train2014_000000057870.jpg', 'sentids': [787980, 789366, 789888, 791316, 794853], 'filename': 'COCO_train2014_000000057870.jpg', 'imgid': 40504, 'split': 'train', 'caption': 'A restaurant has modern wooden tables and chairs.', 'sentences_tokens': [['a', 'restaurant', 'has', 'modern', 'wooden', 'tables', 'and', 'chairs'], ['a', 'long', 'restaurant', 'table', 'with', 'rattan', 'rounded', 'back', 'chairs'], ['a', 'long', 'table', 'with', 'a', 'plant', 'on', 'top', 'of', 'it', 'surrounded', 'with', 'wooden', 'chairs'], ['a', 'long', 'table', 'with', 'a', 'flower', 'arrangement', 'in', 'the', 'middle', 'for', 'meetings'], ['a', 'table', 'is', 'adorned', 'with', 'wooden', 'chairs', 'with', 'blue', 'accents']], 'sentences_raw': ['A restaurant has modern wooden tables and chairs.', 'A long restaurant table with rattan rounded back chairs.', 'a long table with a plant on top of it surrounded with wooden chairs ', 'A long table with a flower arrangement in the middle for meetings', 'A table is adorned with wooden chairs with blue accents.'], 'sentences_sentid': [787980, 789366, 789888, 791316, 794853], 'cocoid': 57870}, {'image': <PIL.JpegImagePlugin.JpegImageFile image mode=RGB size=640x429 at 0x7F15C50BB790>, 'filepath': 'COCO_train2014_000000384029.jpg', 'sentids': [118034, 157682, 159179, 175826, 185540], 'filename': 'COCO_train2014_000000384029.jpg', 'imgid': 40505, 'split': 'train', 'caption': 'A man preparing desserts in a kitchen covered in frosting.', 'sentences_tokens': [['a', 'man', 'preparing', 'desserts', 'in', 'a', 'kitchen', 'covered', 'in', 'frosting'], ['a', 'chef', 'is', 'preparing', 'and', 'decorating', 'many', 'small', 'pastries'], ['a', 'baker', 'prepares', 'various', 'types', 'of', 'baked', 'goods'], ['a', 'close', 'up', 'of', 'a', 'person', 'grabbing', 'a', 'pastry', 'in', 'a', 'container'], ['close', 'up', 'of', 'a', 'hand', 'touching', 'various', 'pastries']], 'sentences_raw': ['A man preparing desserts in a kitchen covered in frosting.', 'A chef is preparing and decorating many small pastries.', 'A baker prepares various types of baked goods.', 'a close up of a person grabbing a pastry in a container', 'Close up of a hand touching various pastries.'], 'sentences_sentid': [118034, 157682, 159179, 175826, 185540], 'cocoid': 384029}, {'image': <PIL.JpegImagePlugin.JpegImageFile image mode=RGB size=500x336 at 0x7F15C5123610>, 'filepath': 'COCO_val2014_000000184613.jpg', 'sentids': [474921, 479322, 479334, 481560, 483594], 'filename': 'COCO_val2014_000000184613.jpg', 'imgid': 2, 'split': 'val', 'caption': 'A child holding a flowered umbrella and petting a yak.', 'sentences_tokens': [['a', 'child', 'holding', 'a', 'flowered', 'umbrella', 'and', 'petting', 'a', 'yak'], ['a', 'young', 'man', 'holding', 'an', 'umbrella', 'next', 'to', 'a', 'herd', 'of', 'cattle'], ['a', 'young', 'boy', 'barefoot', 'holding', 'an', 'umbrella', 'touching', 'the', 'horn', 'of', 'a', 'cow'], ['a', 'young', 'boy', 'with', 'an', 'umbrella', 'who', 'is', 'touching', 'the', 'horn', 'of', 'a', 'cow'], ['a', 'boy', 'holding', 'an', 'umbrella', 'while', 'standing', 'next', 'to', 'livestock']], 'sentences_raw': ['A child holding a flowered umbrella and petting a yak.', 'A young man holding an umbrella next to a herd of cattle.', 'a young boy barefoot holding an umbrella touching the horn of a cow', 'A young boy with an umbrella who is touching the horn of a cow.', 'A boy holding an umbrella while standing next to livestock.'], 'sentences_sentid': [474921, 479322, 479334, 481560, 483594], 'cocoid': 184613}]\n",
      "[[{'role': '', 'content': [{'type': 'image'}]}, {'role': 'caption', 'content': [{'type': 'text', 'text': 'A restaurant has modern wooden tables and chairs.'}]}, {'role': '', 'content': [{'type': 'image'}]}, {'role': 'caption', 'content': [{'type': 'text', 'text': 'A man preparing desserts in a kitchen covered in frosting.'}]}, {'role': '', 'content': [{'type': 'image'}]}, {'role': 'caption'}]]\n",
      "['A boy holds an umbrella over a buffalo at a market.']\n",
      "['A boy holds an umbrella over a buffalo at a market.']\n",
      "['A child holding a flowered umbrella and petting a yak.', 'A young man holding an umbrella next to a herd of cattle.', 'a young boy barefoot holding an umbrella touching the horn of a cow', 'A young boy with an umbrella who is touching the horn of a cow.', 'A boy holding an umbrella while standing next to livestock.']\n"
     ]
    },
    {
     "ename": "",
     "evalue": "",
     "output_type": "error",
     "traceback": [
      "\u001b[1;31m在当前单元格或上一个单元格中执行代码时 Kernel 崩溃。\n",
      "\u001b[1;31m请查看单元格中的代码，以确定故障的可能原因。\n",
      "\u001b[1;31m单击<a href='https://aka.ms/vscodeJupyterKernelCrash'>此处</a>了解详细信息。\n",
      "\u001b[1;31m有关更多详细信息，请查看 Jupyter <a href='command:jupyter.viewOutput'>log</a>。"
     ]
    }
   ],
   "source": [
    "from testbed.data.coco import postprocess_generation\n",
    "from testbed.data.utils import prepare_caption_input\n",
    "\n",
    "batch = next(iter(dataloader))\n",
    "single_context = batch[0]\n",
    "print(single_context)\n",
    "text, images = prepare_caption_input([single_context])\n",
    "print(text)\n",
    "raw_output = model.generate(text, images, max_new_tokens=15, num_beams=5)\n",
    "print(raw_output)\n",
    "prediction = postprocess_generation(raw_output)\n",
    "print(prediction)\n",
    "print(single_context[-1][\"sentences_raw\"]) # gt"
   ]
  },
  {
   "cell_type": "markdown",
   "metadata": {},
   "source": [
    "## Step 4. Evaluate\n",
    "For image captioning task, it uses [CIDEr](../testbed/evaluate/metrics/CIDEr/CIDEr.py) to evaluate, which has already been implemented with [`evaluate`](https://huggingface.co/docs/evaluate/index) library that comes from hugging face. It is thoroughly tested to ensure full consistency with the [official CIDEr implementation](https://github.com/tylin/coco-caption), see [test script](../tests/CIDEr/test_CIDEr.py).\n",
    "\n",
    "Thanks to huggingface space, you can also check [here](https://huggingface.co/spaces/Kamichanw/CIDEr) to try `CIDEr` online."
   ]
  },
  {
   "cell_type": "code",
   "execution_count": 14,
   "metadata": {},
   "outputs": [
    {
     "name": "stderr",
     "output_type": "stream",
     "text": [
      "Evaluating idefics2-8b-base ...:   1%|          | 9/1666 [00:13<40:25,  1.46s/it]\n",
      "huggingface/tokenizers: The current process just got forked, after parallelism has already been used. Disabling parallelism to avoid deadlocks...\n",
      "To disable this warning, you can either:\n",
      "\t- Avoid using `tokenizers` before the fork if possible\n",
      "\t- Explicitly set the environment variable TOKENIZERS_PARALLELISM=(true | false)\n",
      "PTBTokenizer tokenized 676 tokens at 18866.12 tokens per second.\n"
     ]
    },
    {
     "data": {
      "text/plain": [
       "{'CIDEr': 0.8088168397310328}"
      ]
     },
     "execution_count": 14,
     "metadata": {},
     "output_type": "execute_result"
    }
   ],
   "source": [
    "from testbed.data.coco import postprocess_generation\n",
    "from testbed.data.utils import prepare_caption_input\n",
    "from tqdm import tqdm\n",
    "import evaluate\n",
    "\n",
    "total_cider = evaluate.load(\"Kamichanw/CIDEr\")\n",
    "result = []\n",
    "\n",
    "# for simplicity, just run 10 batches\n",
    "for i, batch in zip(\n",
    "    range(10), tqdm(dataloader, desc=f\"Evaluating {model.model_name} ...\")\n",
    "):\n",
    "    text, images = prepare_caption_input(batch)\n",
    "    predictions = model.generate(text, images, **hparams[\"generate_args\"])\n",
    "    for pred, context in zip(predictions, batch):\n",
    "        last_cap = context[-1]\n",
    "        gt_captions = last_cap[\"sentences_raw\"]\n",
    "        prediction = postprocess_generation(pred)\n",
    "        total_cider.add(prediction=prediction, reference=gt_captions)\n",
    "        result.append(\n",
    "            {\n",
    "                \"cocoid\": last_cap[\"cocoid\"],\n",
    "                \"raw_output\": pred,\n",
    "                \"filename\": last_cap[\"filename\"],\n",
    "                \"sentences\": last_cap[\"sentences_raw\"],\n",
    "                \"prediction\": prediction,\n",
    "            }\n",
    "        )\n",
    "\n",
    "eval_result = total_cider.compute()\n",
    "eval_result"
   ]
  },
  {
   "cell_type": "markdown",
   "metadata": {},
   "source": [
    "## Step 4. Save Results\n",
    "With the help of `evaluate.save`, we are able to save result and other hyper parameters to a json file."
   ]
  },
  {
   "cell_type": "code",
   "execution_count": null,
   "metadata": {},
   "outputs": [],
   "source": [
    "evaluate.save(\"./\", eval_result=eval_result, hparams=hparams, records=result)"
   ]
  }
 ],
 "metadata": {
  "kernelspec": {
   "display_name": "icl",
   "language": "python",
   "name": "python3"
  },
  "language_info": {
   "codemirror_mode": {
    "name": "ipython",
    "version": 3
   },
   "file_extension": ".py",
   "mimetype": "text/x-python",
   "name": "python",
   "nbconvert_exporter": "python",
   "pygments_lexer": "ipython3",
   "version": "3.9.19"
  }
 },
 "nbformat": 4,
 "nbformat_minor": 2
}
