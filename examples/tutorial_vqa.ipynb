{
 "cells": [
  {
   "cell_type": "markdown",
   "metadata": {},
   "source": [
    "# Evaluate VQA on Idefics2 Model\n",
    "\n",
    "In this tutorial, we will show step by step how to use `ICLTestbed` for model inference and evaluation.\n",
    "\n",
    "Let's take Idefics2 as an example. Idefics2 is a general multimodal model that takes as input arbitrary sequences of texts and images, and generates text responses. The more details about Idefics2 can be found in following ways:\n",
    "\n",
    "[paper](https://arxiv.org/abs/2405.02246) [blog](https://huggingface.co/blog/idefics2) [official-code](https://github.com/huggingface/transformers/tree/main/src/transformers/models/idefics2)\n",
    "\n",
    "## Step 1. Data Loading\n",
    "Load dataset by `datasets` library. You can load official datasets or use a custom loading script. For convenience, I suggest you put all the path-related content in [config.py](../config.py)\n",
    "\n",
    "If you have more than one GPU and want to use multiple GPUs, you need to set the environment variable `CUDA_VISIBLE_DEVICE`, which is already done in [config.py](../config.py).\n",
    "\n",
    "`testbed.data.utils.prepare_dataloader` will use the given dataset and the sampler in PyTorch to generate a dataloader that can produce batches of size `batch_size`, each batch has `num_shots + 1` question-answer pairs."
   ]
  },
  {
   "cell_type": "code",
   "execution_count": 1,
   "metadata": {},
   "outputs": [],
   "source": [
    "import torch\n",
    "import os\n",
    "import sys\n",
    "from datasets import load_dataset\n",
    "\n",
    "sys.path.insert(0, \"..\")\n",
    "from testbed.data import prepare_dataloader\n",
    "import config\n",
    "\n",
    "dataset = load_dataset(\n",
    "    os.path.join(config.testbed_dir, \"data\", \"vqav2\"),\n",
    "    split=\"validation\",\n",
    "    data_dir=config.vqav2_dir,\n",
    "    images_dir=config.coco_dir,\n",
    "    trust_remote_code=True,\n",
    ")\n",
    "\n",
    "hparams = {\n",
    "    \"batch_size\": 1,\n",
    "    \"num_shots\": 32,\n",
    "    \"dtype\": torch.bfloat16,\n",
    "    \"generate_args\": {\"num_beams\": 3, \"max_new_tokens\": 5},\n",
    "}\n",
    "\n",
    "dataloader = prepare_dataloader(\n",
    "    dataset,\n",
    "    batch_size=hparams[\"batch_size\"],\n",
    "    num_shots=hparams[\"num_shots\"],\n",
    "    shuffle=True,\n",
    ")"
   ]
  },
  {
   "cell_type": "markdown",
   "metadata": {},
   "source": [
    "## Step 2. Model Building\n",
    "The model in ICLTestbed can be roughly regarded as a simple combination of a processor and a specific model. You can access underlying processor or model by `model.processor` or `model.model`."
   ]
  },
  {
   "cell_type": "code",
   "execution_count": 5,
   "metadata": {},
   "outputs": [
    {
     "data": {
      "application/vnd.jupyter.widget-view+json": {
       "model_id": "7892f05a9b92481a9dae72f6faca2715",
       "version_major": 2,
       "version_minor": 0
      },
      "text/plain": [
       "Loading checkpoint shards:   0%|          | 0/7 [00:00<?, ?it/s]"
      ]
     },
     "metadata": {},
     "output_type": "display_data"
    }
   ],
   "source": [
    "from testbed.models import Idefics2\n",
    "import torch\n",
    "\n",
    "device = torch.device(\"cuda:1\")\n",
    "model = Idefics2(\n",
    "    config.idefics2_8b_base_path,\n",
    "    dtype=hparams[\"dtype\"],\n",
    "    device=device,\n",
    ")"
   ]
  },
  {
   "cell_type": "markdown",
   "metadata": {},
   "source": [
    "## Step 3. Inference\n",
    "You can get batches by iterating over the dataloader, and then use the `prepare_*_input` methods (depending on a specific task) in `testbed.data` to convert the batches into model inputs according to the specific task. The model input here should usually be a `list` of `dict`. For example, for a 1-shot context, \n",
    "```python\n",
    "[\n",
    "    {\n",
    "        \"role\": \"instruction\",\n",
    "        \"content\": \"Provide an answer to the question. Use the image to answer.\" ,\n",
    "    },\n",
    "    {\n",
    "        \"role\": \"image:\n",
    "        \"content\": [\n",
    "            {\"type\": \"image\"}\n",
    "        ]\n",
    "    },\n",
    "    {\n",
    "        \"role\": \"question\",\n",
    "        \"content\": [\n",
    "            {\"type\": \"text\", \"text\": \"What do we see in this image?\"},\n",
    "        ],\n",
    "    },\n",
    "    {\n",
    "        \"role\": \"answer\",\n",
    "        \"content\": [\n",
    "            {\n",
    "                \"type\": \"text\",\n",
    "                \"text\": \"In this image, we can see the city of New York, and more specifically the Statue of Liberty.\",\n",
    "            },\n",
    "        ],\n",
    "    },\n",
    "    {\n",
    "        \"role\": \"image:\n",
    "        \"content\": [\n",
    "            {\"type\": \"image\"}\n",
    "        ]\n",
    "    },\n",
    "    {\n",
    "        \"role\": \"question\",\n",
    "        \"content\": [\n",
    "            {\"type\": \"text\", \"text\": \"And how about this image?\"},\n",
    "        ],\n",
    "    },\n",
    "    {\n",
    "        \"role\": \"answer\"\n",
    "    }\n",
    "]\n",
    "```\n",
    "\n",
    "It will be transformed to the real prompt by `model.apply_prompt_template` which is a step in `model.process_input`. `apply_prompt_template` is an alias for [`apply_chat_template`](https://huggingface.co/docs/transformers/main/chat_templating).\n",
    "\n",
    "After getting the model output, you need to do post-processing generation to clean and extract what answer should be. This is a dataset-dependent method, that is, different datasets have different post-processing styles.\n",
    "\n",
    "Let's view the full pipeline with a mini-batch."
   ]
  },
  {
   "cell_type": "code",
   "execution_count": 9,
   "metadata": {},
   "outputs": [
    {
     "name": "stdout",
     "output_type": "stream",
     "text": [
      "[{'question_type': 'what is the man', 'multiple_choice_answer': 'walking', 'answers': [{'answer': 'crossing it', 'answer_confidence': 'yes', 'answer_id': 1}, {'answer': 'walking', 'answer_confidence': 'yes', 'answer_id': 2}, {'answer': 'walking', 'answer_confidence': 'yes', 'answer_id': 3}, {'answer': 'crossing', 'answer_confidence': 'yes', 'answer_id': 4}, {'answer': 'crossing road', 'answer_confidence': 'yes', 'answer_id': 5}, {'answer': 'walking', 'answer_confidence': 'yes', 'answer_id': 6}, {'answer': 'crossing', 'answer_confidence': 'yes', 'answer_id': 7}, {'answer': 'walking', 'answer_confidence': 'yes', 'answer_id': 8}, {'answer': 'crossing', 'answer_confidence': 'yes', 'answer_id': 9}, {'answer': 'walking', 'answer_confidence': 'yes', 'answer_id': 10}], 'answer': 'walking', 'image_id': 393226, 'answer_type': 'other', 'question_id': 393226000, 'question': 'What is the man doing in the street?', 'image': <PIL.JpegImagePlugin.JpegImageFile image mode=RGB size=640x480 at 0x7FDC817494F0>}, {'question_type': 'are there', 'multiple_choice_answer': 'no', 'answers': [{'answer': 'no', 'answer_confidence': 'yes', 'answer_id': 1}, {'answer': 'no', 'answer_confidence': 'yes', 'answer_id': 2}, {'answer': 'no', 'answer_confidence': 'yes', 'answer_id': 3}, {'answer': 'no', 'answer_confidence': 'yes', 'answer_id': 4}, {'answer': 'no', 'answer_confidence': 'yes', 'answer_id': 5}, {'answer': 'no', 'answer_confidence': 'yes', 'answer_id': 6}, {'answer': 'no', 'answer_confidence': 'yes', 'answer_id': 7}, {'answer': 'no', 'answer_confidence': 'yes', 'answer_id': 8}, {'answer': 'no', 'answer_confidence': 'yes', 'answer_id': 9}, {'answer': 'no', 'answer_confidence': 'yes', 'answer_id': 10}], 'answer': 'no', 'image_id': 262162, 'answer_type': 'yes/no', 'question_id': 262162015, 'question': 'Are there bed headboards present in the photo?', 'image': <PIL.JpegImagePlugin.JpegImageFile image mode=RGB size=640x480 at 0x7FDC81749C10>}, {'question_type': 'what kind of', 'multiple_choice_answer': 'bedroom', 'answers': [{'answer': 'bedroom', 'answer_confidence': 'yes', 'answer_id': 1}, {'answer': 'bedroom', 'answer_confidence': 'yes', 'answer_id': 2}, {'answer': 'bedroom', 'answer_confidence': 'yes', 'answer_id': 3}, {'answer': 'bedroom', 'answer_confidence': 'yes', 'answer_id': 4}, {'answer': 'bedroom', 'answer_confidence': 'yes', 'answer_id': 5}, {'answer': 'bedroom', 'answer_confidence': 'yes', 'answer_id': 6}, {'answer': 'bedroom', 'answer_confidence': 'yes', 'answer_id': 7}, {'answer': 'bedroom', 'answer_confidence': 'yes', 'answer_id': 8}, {'answer': 'bedroom', 'answer_confidence': 'yes', 'answer_id': 9}, {'answer': 'bedroom', 'answer_confidence': 'yes', 'answer_id': 10}], 'answer': 'bedroom', 'image_id': 262162, 'answer_type': 'other', 'question_id': 262162017, 'question': 'What kind of room is this?', 'image': <PIL.JpegImagePlugin.JpegImageFile image mode=RGB size=640x480 at 0x7FDC817498E0>}]\n",
      "[[{'role': 'instruction', 'content': 'Provide an answer to the question. Use the image to answer.'}, {'role': 'question', 'content': [{'type': 'image'}, {'type': 'text', 'text': 'What is the man doing in the street?'}]}, {'role': 'short answer', 'content': [{'type': 'text', 'text': 'walking'}]}, {'role': 'question', 'content': [{'type': 'image'}, {'type': 'text', 'text': 'Are there bed headboards present in the photo?'}]}, {'role': 'short answer', 'content': [{'type': 'text', 'text': 'no'}]}, {'role': 'question', 'content': [{'type': 'image'}, {'type': 'text', 'text': 'What kind of room is this?'}]}, {'role': 'short answer'}]]\n",
      "['a bedroom\\n']\n",
      "[{'answer': 'bedroom', 'answer_confidence': 'yes', 'answer_id': 1}, {'answer': 'bedroom', 'answer_confidence': 'yes', 'answer_id': 2}, {'answer': 'bedroom', 'answer_confidence': 'yes', 'answer_id': 3}, {'answer': 'bedroom', 'answer_confidence': 'yes', 'answer_id': 4}, {'answer': 'bedroom', 'answer_confidence': 'yes', 'answer_id': 5}, {'answer': 'bedroom', 'answer_confidence': 'yes', 'answer_id': 6}, {'answer': 'bedroom', 'answer_confidence': 'yes', 'answer_id': 7}, {'answer': 'bedroom', 'answer_confidence': 'yes', 'answer_id': 8}, {'answer': 'bedroom', 'answer_confidence': 'yes', 'answer_id': 9}, {'answer': 'bedroom', 'answer_confidence': 'yes', 'answer_id': 10}]\n"
     ]
    }
   ],
   "source": [
    "from testbed.data.vqav2 import postprocess_generation\n",
    "from testbed.data import prepare_vqa_input\n",
    "\n",
    "batch = next(iter(dataloader))\n",
    "single_context = batch[0]\n",
    "print(single_context)\n",
    "text, images = prepare_vqa_input(\n",
    "    [single_context],\n",
    "    instruction=\"Provide an answer to the question. Use the image to answer.\",\n",
    ")\n",
    "print(text)\n",
    "raw_output = model.generate(text, images, **hparams[\"generate_args\"])\n",
    "prediction = postprocess_generation(raw_output)\n",
    "print(prediction)\n",
    "print(single_context[-1][\"answers\"])  # gt"
   ]
  },
  {
   "cell_type": "markdown",
   "metadata": {},
   "source": [
    "## Step 4. Evaluate\n",
    "For visual question answering task, it uses [vqa accuracy](../testbed/evaluate/metrics/vqa_accuracy/vqa_accuracy.py) to evaluate, which has already been implemented with [`evaluate`](https://huggingface.co/docs/evaluate/index) library that comes from hugging face. It is thoroughly tested to ensure full consistency with the official VQA accuracy implementation, see [test script](../tests/vqa_accuracy/test_vqa_accuracy.py).\n",
    "\n",
    "Thanks to huggingface space, you can also check [here](https://huggingface.co/spaces/Kamichanw/vqa_accuracy) to try `vqa_accuracy` online."
   ]
  },
  {
   "cell_type": "code",
   "execution_count": null,
   "metadata": {},
   "outputs": [],
   "source": [
    "from tqdm import tqdm\n",
    "import evaluate\n",
    "\n",
    "total_acc = evaluate.load(\"Kamichanw/vqa_accuracy\")\n",
    "result = []\n",
    "\n",
    "# for simplicity, just run 10 batches\n",
    "for i, batch in zip(\n",
    "    range(10), tqdm(dataloader, desc=f\"Evaluating {model.model_name} ...\")\n",
    "):\n",
    "    text, images = prepare_vqa_input(\n",
    "        batch, instruction=\"Provide an answer to the question. Use the image to answer.\"\n",
    "    )\n",
    "    predictions = model.generate(text, images, **hparams[\"generate_args\"])\n",
    "    for pred, context in zip(predictions, batch):\n",
    "        last_qa = context[-1]\n",
    "        gt_answer = [item[\"answer\"] for item in last_qa[\"answers\"]]\n",
    "        prediction = postprocess_generation(pred)\n",
    "        total_acc.add(\n",
    "            prediction=prediction,\n",
    "            reference=gt_answer,\n",
    "            question_types=last_qa[\"question_type\"],\n",
    "            answer_types=last_qa[\"answer_type\"],\n",
    "        )\n",
    "        result.append(\n",
    "            {\n",
    "                \"question_id\": last_qa[\"question_id\"],\n",
    "                \"raw_output\": pred,\n",
    "                \"question\": last_qa[\"question\"],\n",
    "                \"question_type\": last_qa[\"question_type\"],\n",
    "                \"answer_type\": last_qa[\"answer_type\"],\n",
    "                \"prediction\": prediction,\n",
    "                \"answers\": last_qa[\"answers\"],\n",
    "            }\n",
    "        )\n",
    "\n",
    "eval_result = total_acc.compute()\n",
    "eval_result"
   ]
  },
  {
   "cell_type": "markdown",
   "metadata": {},
   "source": [
    "## Step 5. Save Results\n",
    "With the help of `evaluate.save`, we are able to save result and other hyper parameters to a json file."
   ]
  },
  {
   "cell_type": "code",
   "execution_count": null,
   "metadata": {},
   "outputs": [],
   "source": [
    "hparams[\"dtype\"] = str(hparams[\"dtype\"])\n",
    "evaluate.save(\"./\", eval_result=eval_result, hparams=hparams, records=result)"
   ]
  }
 ],
 "metadata": {
  "kernelspec": {
   "display_name": "icl",
   "language": "python",
   "name": "python3"
  },
  "language_info": {
   "codemirror_mode": {
    "name": "ipython",
    "version": 3
   },
   "file_extension": ".py",
   "mimetype": "text/x-python",
   "name": "python",
   "nbconvert_exporter": "python",
   "pygments_lexer": "ipython3",
   "version": "3.12.4"
  }
 },
 "nbformat": 4,
 "nbformat_minor": 2
}
