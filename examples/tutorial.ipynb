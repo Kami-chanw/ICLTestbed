{
 "cells": [
  {
   "cell_type": "markdown",
   "metadata": {},
   "source": [
    "# Evaluate VQA on Idefics2 Model\n",
    "\n",
    "In this tutorial, we will show step by step how to use `ICLTestbed` for model inference and evaluation.\n",
    "\n",
    "Let's take Idefics2 as an example. Idefics2 is a general multimodal model that takes as input arbitrary sequences of texts and images, and generates text responses. The more details about Idefics2 can be found in following ways:\n",
    "\n",
    "[paper](https://arxiv.org/abs/2405.02246) [blog](https://huggingface.co/blog/idefics2) [official-code](https://github.com/huggingface/transformers/tree/main/src/transformers/models/idefics2)\n",
    "\n",
    "## Step 1. Data Loading\n",
    "Load dataset by `datasets` library. You can load official datasets or use a custom loading script. For convenience, I suggest you put all the path-related content in [config.py](../config.py)\n",
    "\n",
    "If you have more than one GPU and want to use multiple GPUs, you need to set the environment variable `CUDA_VISIBLE_DEVICE`, which is already done in [config.py](../config.py).\n",
    "\n",
    "`testbed.data.prepare_dataloader` will use the given dataset and the sampler in PyTorch to generate a dataloader that can produce batches of size `batch_size`, each batch has `num_shots + 1` question-answer pairs."
   ]
  },
  {
   "cell_type": "code",
   "execution_count": 1,
   "metadata": {},
   "outputs": [
    {
     "name": "stderr",
     "output_type": "stream",
     "text": [
      "/data1/jyc/miniconda3/envs/icl/lib/python3.10/site-packages/tqdm/auto.py:21: TqdmWarning: IProgress not found. Please update jupyter and ipywidgets. See https://ipywidgets.readthedocs.io/en/stable/user_install.html\n",
      "  from .autonotebook import tqdm as notebook_tqdm\n"
     ]
    }
   ],
   "source": [
    "from datasets import load_dataset\n",
    "import sys\n",
    "sys.path.insert(0, \"..\")\n",
    "from testbed.data import prepare_dataloader\n",
    "from torch.utils.data.sampler import RandomSampler\n",
    "import config\n",
    "\n",
    "dataset = load_dataset(\n",
    "    \"../testbed/data/vqav2\", split=\"validation\", data_dir=\"./dev\", images_dir=config.coco_dir,\n",
    "    trust_remote_code=True\n",
    ")\n",
    "\n",
    "dataloader = prepare_dataloader(dataset, batch_size=1, num_shots=2, sampler=RandomSampler(dataset))\n"
   ]
  },
  {
   "cell_type": "markdown",
   "metadata": {},
   "source": [
    "## Step 2. Model Building\n",
    "The model in ICLTestbed can be roughly regarded as a simple combination of a processor and a specific model. You can access underlying processor or model by `model.processor` or `model.model`."
   ]
  },
  {
   "cell_type": "code",
   "execution_count": 2,
   "metadata": {},
   "outputs": [
    {
     "name": "stderr",
     "output_type": "stream",
     "text": [
      "Loading checkpoint shards: 100%|██████████| 7/7 [00:08<00:00,  1.17s/it]\n"
     ]
    }
   ],
   "source": [
    "from testbed.models import Idefics2\n",
    "import torch\n",
    "from transformers import BitsAndBytesConfig\n",
    "\n",
    "quantization_config = BitsAndBytesConfig(\n",
    "    load_in_4bit=True,\n",
    "    bnb_4bit_quant_type=\"nf4\",\n",
    "    bnb_4bit_use_double_quant=True,\n",
    "    bnb_4bit_compute_dtype=torch.float16,\n",
    ")\n",
    "device = torch.device(\"cuda:7\")\n",
    "model = Idefics2(\n",
    "    config.idefics2_8b_base_path,\n",
    "    precision=\"bf16\",\n",
    "    device=device,\n",
    "    quantization_config=quantization_config,\n",
    ")"
   ]
  },
  {
   "cell_type": "markdown",
   "metadata": {},
   "source": [
    "## Step 3. Inference\n",
    "You can get batches by iterating over the dataloader, and then use the `prepare_*_input` methods (depending on a specific task) in `testbed.data` to convert the batches into model inputs according to the specific task. The model input here should usually be a `list` of `dict`. For example, for a 1-shot context, \n",
    "```python\n",
    "[\n",
    "    {\n",
    "        \"role\": \"instruction\",\n",
    "        \"content\": \"Provide an answer to the question. Use the image to answer.\" ,\n",
    "    },\n",
    "    {\n",
    "        \"role\": \"example\",\n",
    "        \"query\": [\n",
    "            {\"type\": \"image\"},\n",
    "            {\"type\": \"text\", \"text\": \"What do we see in this image?\"},\n",
    "        ],\n",
    "        \"answer\": [\n",
    "            {\n",
    "                \"type\": \"text\",\n",
    "                \"text\": \"In this image, we can see the city of New York, and more specifically the Statue of Liberty.\",\n",
    "            },\n",
    "        ],\n",
    "    },\n",
    "    {\n",
    "        \"role\": \"question\",\n",
    "        \"query\": [\n",
    "            {\"type\": \"image\"},\n",
    "            {\"type\": \"text\", \"text\": \"And how about this image?\"},\n",
    "        ],\n",
    "    },\n",
    "]\n",
    "```\n",
    "\n",
    "It will be transformed to the real prompt by `model.apply_prompt_template` which is a step in `model.generate`.\n",
    "\n",
    "After getting the model output, you need to do post-processing generation to clean and extract what answer should be. This is a dataset-dependent method, that is, different datasets have different post-processing styles.\n",
    "\n",
    "For visual question answering task, it use vqa accuracy to evaluate, which has already been implemented with [`evaluate`](https://huggingface.co/docs/evaluate/index) library from hugging face."
   ]
  },
  {
   "cell_type": "code",
   "execution_count": 3,
   "metadata": {},
   "outputs": [
    {
     "name": "stderr",
     "output_type": "stream",
     "text": [
      "Evaluating idefics2-8b-base ...:   0%|          | 9/3333 [00:21<2:13:04,  2.40s/it]"
     ]
    },
    {
     "name": "stdout",
     "output_type": "stream",
     "text": [
      "{'overall': 60.0, 'perAnswerType': {'other': 40.0, 'yes/no': 80.0}, 'perQuestionType': {'what kind of': 100.0, 'is this a': 100.0, 'what sport is': 100.0, 'who is': 0.0, 'where is the': 0.0, 'are they': 100.0, 'are': 0.0, 'does the': 100.0, 'is this': 100.0, 'what does the': 0.0}}\n"
     ]
    },
    {
     "name": "stderr",
     "output_type": "stream",
     "text": [
      "\n"
     ]
    }
   ],
   "source": [
    "from testbed.data.vqav2 import postprocess_generation\n",
    "from testbed.data import prepare_vqa_input\n",
    "from tqdm import tqdm\n",
    "import evaluate\n",
    "\n",
    "total_acc = evaluate.load(\"../testbed/evaluate/metrics/vqa_accuracy\")\n",
    "result = []\n",
    "\n",
    "# for simplicity, just run 10 batches\n",
    "for i, batch in zip(range(10), tqdm(dataloader, desc=f\"Evaluating {model.model_name} ...\")):\n",
    "    images, text = prepare_vqa_input(\n",
    "        batch, instruction=\"Provide an answer to the question. Use the image to answer.\"\n",
    "    )\n",
    "    predictions = model.generate(text, images, max_new_tokens=10, num_beams=3)\n",
    "    for pred, context in zip(predictions, batch):\n",
    "        last_qa = context[-1]\n",
    "        gt_answer = [item[\"answer\"] for item in last_qa[\"answers\"]]\n",
    "        prediction = postprocess_generation(pred)\n",
    "        total_acc.add(\n",
    "            prediction=prediction,\n",
    "            reference=gt_answer,\n",
    "            question_types=last_qa[\"question_type\"],\n",
    "            answer_types=last_qa[\"answer_type\"],\n",
    "        )\n",
    "        result.append(\n",
    "            {\n",
    "                \"question_id\": last_qa[\"question_id\"],\n",
    "                \"raw_output\": pred,\n",
    "                \"question\": last_qa[\"question\"],\n",
    "                \"question_type\": last_qa[\"question_type\"],\n",
    "                \"answer_type\": last_qa[\"answer_type\"],\n",
    "                \"prediction\" : prediction,\n",
    "                \"answers\": last_qa[\"answers\"],\n",
    "            }\n",
    "        )\n",
    "\n",
    "print(total_acc.compute())"
   ]
  },
  {
   "cell_type": "markdown",
   "metadata": {},
   "source": [
    "## Step 4. Save Results\n",
    "With the help of `evaluate.save`, we are able to save result and other hyper parameters to a json file."
   ]
  },
  {
   "cell_type": "code",
   "execution_count": 7,
   "metadata": {},
   "outputs": [
    {
     "data": {
      "text/plain": [
       "PosixPath('result-2024_08_06-21_24_25.json')"
      ]
     },
     "execution_count": 7,
     "metadata": {},
     "output_type": "execute_result"
    }
   ],
   "source": [
    "evaluate.save(\"./\", records=result)"
   ]
  }
 ],
 "metadata": {
  "kernelspec": {
   "display_name": "icl",
   "language": "python",
   "name": "python3"
  },
  "language_info": {
   "codemirror_mode": {
    "name": "ipython",
    "version": 3
   },
   "file_extension": ".py",
   "mimetype": "text/x-python",
   "name": "python",
   "nbconvert_exporter": "python",
   "pygments_lexer": "ipython3",
   "version": "3.10.14"
  }
 },
 "nbformat": 4,
 "nbformat_minor": 2
}
