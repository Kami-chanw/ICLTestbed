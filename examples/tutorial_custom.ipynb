{
 "cells": [
  {
   "cell_type": "markdown",
   "metadata": {},
   "source": [
    "# Evaluate Model on Your Dataset\n",
    "\n",
    "In this tutorial, we will show step by step how to use `ICLTestbed` for model inference and evaluation on your own dataset.\n",
    "\n",
    "Let's take Idefics2 as an example. Idefics2 is a general multimodal model that takes as input arbitrary sequences of texts and images, and generates text responses. The more details about Idefics2 can be found in following ways:\n",
    "\n",
    "[paper](https://arxiv.org/abs/2405.02246) [blog](https://huggingface.co/blog/idefics2) [official-code](https://github.com/huggingface/transformers/tree/main/src/transformers/models/idefics2)\n",
    "\n",
    "## Step 1. Data Loading\n",
    "Load dataset by `datasets` library. You can load official datasets or use a custom loading script. We use [hateful memes](https://huggingface.co/datasets/neuralcatcher/hateful_memes) as example.\n",
    "\n",
    "`testbed.data.utils.prepare_dataloader` will use the given dataset and the sampler in PyTorch to generate a dataloader that can produce batches of size `batch_size`, each batch has `num_shots + 1` question-answer pairs."
   ]
  },
  {
   "cell_type": "code",
   "execution_count": 3,
   "metadata": {},
   "outputs": [],
   "source": [
    "import torch\n",
    "from datasets import load_dataset\n",
    "import os\n",
    "import sys\n",
    "\n",
    "sys.path.insert(0, \"..\")\n",
    "from testbed.data import prepare_dataloader\n",
    "\n",
    "hateful_memes_dir = \"/data1/share/dataset/hateful_memes\"\n",
    "idefics2_8b_base_path = \"/data1/pyz/model_weight/idefics2-8b-base\"\n",
    "\n",
    "dataset = load_dataset(\n",
    "    os.path.join(\"..\", \"testbed\", \"data\", \"hateful_memes\"),\n",
    "    data_dir=hateful_memes_dir,\n",
    "    split=\"train\",\n",
    "    trust_remote_code=True, \n",
    ")\n",
    "\n",
    "hparams = {\n",
    "    \"batch_size\": 1,\n",
    "    \"num_shots\": 2,\n",
    "    \"dtype\": torch.bfloat16,\n",
    "    \"generate_args\": {\"num_beams\": 3, \"max_new_tokens\": 5},\n",
    "}\n",
    "\n",
    "dataloader = prepare_dataloader(\n",
    "    dataset,\n",
    "    batch_size=hparams[\"batch_size\"],\n",
    "    num_shots=hparams[\"num_shots\"],\n",
    "    shuffle=True,\n",
    ")"
   ]
  },
  {
   "cell_type": "markdown",
   "metadata": {},
   "source": [
    "## Step 2. Model Building\n",
    "The model in ICLTestbed can be roughly regarded as a simple combination of a processor and a specific model. You can access underlying processor or model by `model.processor` or `model.model`."
   ]
  },
  {
   "cell_type": "code",
   "execution_count": 4,
   "metadata": {},
   "outputs": [
    {
     "name": "stderr",
     "output_type": "stream",
     "text": [
      "Loading checkpoint shards: 100%|██████████| 7/7 [00:03<00:00,  2.25it/s]\n"
     ]
    }
   ],
   "source": [
    "from testbed.models import Idefics2\n",
    "import torch\n",
    "\n",
    "device = torch.device(\"cpu\")\n",
    "model = Idefics2(idefics2_8b_base_path, torch_dtype=hparams[\"dtype\"]).to(device)"
   ]
  },
  {
   "cell_type": "markdown",
   "metadata": {},
   "source": [
    "## Step 3. Inference\n",
    "If you need to use your own prompt template, you should do it here. Suppose we want to use the following template:\n",
    "```\n",
    "<image>is an image with written \"<text>\" on it. Is it hateful? Answer: <label>\n",
    "```\n",
    "The prompt template in ICLTestbed is an alias for chat template from huggingface (not familiar? see [Chat Templating](https://huggingface.co/docs/transformers/main/chat_templating)). The model input here should usually be a `list` of `dict`, referred as `messages` in prompt template. For example, for a 1-shot context, \n",
    "```python\n",
    "[\n",
    "    {\n",
    "        \"role\": \"\",\n",
    "        \"content\": [\n",
    "            {\"type\": \"image\"},\n",
    "            {\n",
    "                \"type\": \"text\",\n",
    "                \"text\": \"is an image with written \\\"its their character not their color that matters\\\" on it. Is it hateful?\",\n",
    "            },\n",
    "        ],\n",
    "    },\n",
    "    {\n",
    "        \"role\": \"answer\",\n",
    "        \"content\": [\n",
    "            {\n",
    "                \"type\": \"text\",\n",
    "                \"text\": \"Yes\",\n",
    "            },\n",
    "        ],\n",
    "    },\n",
    "    {\n",
    "        \"role\": \"\",\n",
    "        \"content\": [\n",
    "            {\"type\": \"image\"},\n",
    "            {\n",
    "                \"type\": \"text\",\n",
    "                \"text\": \"is an image with written \\\"don't be afraid to love again everyone is not like your ex\\\" on it. Is it hateful?\",\n",
    "            },\n",
    "        ],\n",
    "    },\n",
    "    {\n",
    "        \"role\": \"answer\"\n",
    "    }\n",
    "]\n",
    "```"
   ]
  },
  {
   "cell_type": "code",
   "execution_count": 5,
   "metadata": {},
   "outputs": [],
   "source": [
    "# fmt: off\n",
    "model.prompt_template =  (\n",
    "    \"{% if messages[0]['role'] == 'instruction' %}\"\n",
    "        \"Instruction: {{ messages[0]['content'] }}\\n\"\n",
    "        \"{% set messages = messages[1:] %}\"\n",
    "    \"{% endif %}\"\n",
    "    \"{% for message in messages %}\"\n",
    "        \"{% if message['role'] != '' %}\"\n",
    "            \"{{ message['role'].capitalize() }}\"\n",
    "            \"{% if not 'content' in message or message['content'][0]['type'] == 'image' %}\"\n",
    "                \"{{':'}}\"\n",
    "            \"{% else %}\"\n",
    "                \"{{': '}}\"\n",
    "            \"{% endif %}\" \n",
    "        \"{% endif %}\"\n",
    "        \"{% if 'content' in message %}\"\n",
    "            \"{% for line in message['content'] %}\"\n",
    "                \"{% if line['type'] == 'text' %}\"\n",
    "                    \"{{ line['text'] }}\"\n",
    "                \"{% elif line['type'] == 'image' %}\"\n",
    "                    \"{{- '<image>' }}\"\n",
    "                \"{% endif %}\"\n",
    "                \"{% if loop.last %}\"\n",
    "                    \"{% if message['role'] == 'answer' %}\"\n",
    "                        \"\\n\\n\"\n",
    "                    \"{% else %}\"\n",
    "                        \" \"\n",
    "                    \"{%+ endif %}\"\n",
    "                \"{% endif %}\"\n",
    "            \"{% endfor %}\"\n",
    "        \"{% endif %}\"\n",
    "    \"{% endfor %}\"\n",
    ")\n",
    "# fmt: on"
   ]
  },
  {
   "cell_type": "markdown",
   "metadata": {},
   "source": [
    "Next, you need to customize a prepare input to extract the data from the dataset and form the input of the model (see example above), just like `testbed.data.prepare_*_input`. Luckily, you can do this with the help of `testbed.data.prepare_input`."
   ]
  },
  {
   "cell_type": "code",
   "execution_count": 6,
   "metadata": {},
   "outputs": [
    {
     "data": {
      "text/plain": [
       "([[{'role': 'instruction',\n",
       "    'content': \"It's a conversation between a human, the user, and an intelligent visual AI, Bot. The user sends memes with text written on them, and Bot has to say whether the meme is hateful or not.\"},\n",
       "   {'role': '',\n",
       "    'content': [{'type': 'image'},\n",
       "     {'type': 'text',\n",
       "      'text': 'is an image with written \"its their character not their color that matters\" on it. Is it hateful?'}]},\n",
       "   {'role': 'answer', 'content': [{'type': 'text', 'text': 'no'}]},\n",
       "   {'role': '',\n",
       "    'content': [{'type': 'image'},\n",
       "     {'type': 'text',\n",
       "      'text': 'is an image with written \"don\\'t be afraid to love again everyone is not like your ex\" on it. Is it hateful?'}]},\n",
       "   {'role': 'answer', 'content': [{'type': 'text', 'text': 'no'}]},\n",
       "   {'role': '',\n",
       "    'content': [{'type': 'image'},\n",
       "     {'type': 'text',\n",
       "      'text': 'is an image with written \"putting bows on your pet\" on it. Is it hateful?'}]},\n",
       "   {'role': 'answer'}]],\n",
       " [[<PIL.PngImagePlugin.PngImageFile image mode=RGB size=265x400>,\n",
       "   <PIL.PngImagePlugin.PngImageFile image mode=RGB size=800x533>,\n",
       "   <PIL.PngImagePlugin.PngImageFile image mode=RGB size=558x800>]])"
      ]
     },
     "execution_count": 6,
     "metadata": {},
     "output_type": "execute_result"
    }
   ],
   "source": [
    "from testbed.data import prepare_input\n",
    "\n",
    "\n",
    "def prepare_hateful_memes_input(batch):\n",
    "    def retriever(item, is_last):\n",
    "        return [\n",
    "            {\n",
    "                \"role\": \"\",\n",
    "                \"content\": [\n",
    "                    {\"type\": \"image\"},\n",
    "                    {\n",
    "                        \"type\": \"text\",\n",
    "                        \"text\": f'is an image with written \"{item[\"text\"]}\" on it. Is it hateful?',\n",
    "                    },\n",
    "                ],\n",
    "            },\n",
    "            (\n",
    "                {\"role\": \"answer\"}\n",
    "                if is_last\n",
    "                else {\n",
    "                    \"role\": \"answer\",\n",
    "                    \"content\": [\n",
    "                        {\"type\": \"text\", \"text\": \"yes\" if item[\"label\"] == 1 else \"no\"}\n",
    "                    ],\n",
    "                }\n",
    "            ),\n",
    "        ]\n",
    "\n",
    "    return prepare_input(\n",
    "        batch,\n",
    "        instruction=\"It's a conversation between a human, the user, and an intelligent visual AI, Bot. \"\n",
    "        \"The user sends memes with text written on them, and Bot has to say whether the meme is hateful or not.\",\n",
    "        retriever=retriever,\n",
    "    ), [[item[\"img\"] for item in context] for context in batch]\n",
    "\n",
    "\n",
    "prepare_hateful_memes_input(next(iter(dataloader)))"
   ]
  },
  {
   "cell_type": "markdown",
   "metadata": {},
   "source": [
    "\n",
    "It will be transformed to the real prompt by `model.apply_prompt_template` which is a step in `model.process_input`. `apply_prompt_template` is an alias for [`apply_chat_template`](https://huggingface.co/docs/transformers/main/chat_templating).\n",
    "\n",
    "After getting the model output, you need to do post-processing generation to clean and extract what answer should be. This is a dataset-dependent method, that is, different datasets have different post-processing styles."
   ]
  },
  {
   "cell_type": "code",
   "execution_count": 7,
   "metadata": {},
   "outputs": [
    {
     "name": "stdout",
     "output_type": "stream",
     "text": [
      "['Instruction: It\\'s a conversation between a human, the user, and an intelligent visual AI, Bot. The user sends memes with text written on them, and Bot has to say whether the meme is hateful or not.\\n<image>is an image with written \"its their character not their color that matters\" on it. Is it hateful? Answer: no\\n<image>is an image with written \"don\\'t be afraid to love again everyone is not like your ex\" on it. Is it hateful? Answer: no\\n<image>is an image with written \"putting bows on your pet\" on it. Is it hateful? Answer:']\n"
     ]
    },
    {
     "name": "stderr",
     "output_type": "stream",
     "text": [
      "Starting from v4.46, the `logits` model output will have the same type as the model (except at train time, where it will always be FP32)\n"
     ]
    },
    {
     "name": "stdout",
     "output_type": "stream",
     "text": [
      "[0]\n",
      "0\n"
     ]
    }
   ],
   "source": [
    "from testbed.data.hateful_memes import postprocess_generation\n",
    "\n",
    "batch = next(iter(dataloader))\n",
    "single_context = batch[0]\n",
    "text, images = prepare_hateful_memes_input([single_context])\n",
    "print(model.apply_prompt_template(text))\n",
    "raw_output = model.generate(text, images, **hparams[\"generate_args\"])\n",
    "print(raw_output)\n",
    "prediction = postprocess_generation(raw_output)\n",
    "print(prediction)\n",
    "print(single_context[-1][\"label\"]) # gt"
   ]
  },
  {
   "cell_type": "markdown",
   "metadata": {},
   "source": [
    "## Step 4. Evaluate\n",
    "For hateful memes task, it uses ROC AUC to evaluate, which has already been implemented in [`evaluate`](https://huggingface.co/docs/evaluate/index) library that comes from hugging face. "
   ]
  },
  {
   "cell_type": "code",
   "execution_count": null,
   "metadata": {},
   "outputs": [],
   "source": [
    "from testbed.data.hateful_memes import postprocess_generation\n",
    "from tqdm import tqdm\n",
    "import evaluate\n",
    "\n",
    "total_roc_auc = evaluate.load(\"roc_auc\")\n",
    "result = []\n",
    "\n",
    "# for simplicity, just run 10 batches\n",
    "for i, batch in zip(\n",
    "    range(10), tqdm(dataloader, desc=f\"Evaluating {model.model_name} ...\")\n",
    "):\n",
    "    text, images = prepare_hateful_memes_input(batch)\n",
    "    predictions = model.generate(text, images, **hparams[\"generate_args\"])\n",
    "    for pred, context in zip(predictions, batch):\n",
    "        last_item = context[-1]\n",
    "        answer = last_item[\"label\"]\n",
    "        prediction = postprocess_generation(pred)\n",
    "        total_roc_auc.add(prediction_scores=prediction, references=answer)\n",
    "        result.append(\n",
    "            {\n",
    "                \"id\": last_item[\"id\"],\n",
    "                \"answer\": last_item[\"label\"],\n",
    "                \"raw_output\": pred,\n",
    "                \"prediction\": prediction,\n",
    "            }\n",
    "        )\n",
    "\n",
    "eval_result = total_roc_auc.compute()\n",
    "eval_result"
   ]
  },
  {
   "cell_type": "markdown",
   "metadata": {},
   "source": [
    "## Step 4. Save Results\n",
    "With the help of `evaluate.save`, we are able to save result and other hyper parameters to a json file."
   ]
  },
  {
   "cell_type": "code",
   "execution_count": null,
   "metadata": {},
   "outputs": [],
   "source": [
    "hparams[\"dtype\"] = str(hparams[\"dtype\"])\n",
    "evaluate.save(\"./\", eval_result=eval_result, hparams=hparams, records=result)"
   ]
  }
 ],
 "metadata": {
  "kernelspec": {
   "display_name": "icl",
   "language": "python",
   "name": "python3"
  },
  "language_info": {
   "codemirror_mode": {
    "name": "ipython",
    "version": 3
   },
   "file_extension": ".py",
   "mimetype": "text/x-python",
   "name": "python",
   "nbconvert_exporter": "python",
   "pygments_lexer": "ipython3",
   "version": "3.12.5"
  }
 },
 "nbformat": 4,
 "nbformat_minor": 2
}
