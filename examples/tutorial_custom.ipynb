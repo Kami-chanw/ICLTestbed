{
 "cells": [
  {
   "cell_type": "markdown",
   "metadata": {},
   "source": [
    "# Evaluate Model on Your Dataset\n",
    "\n",
    "In this tutorial, we will show step by step how to use `ICLTestbed` for model inference and evaluation on your own dataset.\n",
    "\n",
    "Let's take Mistral-7b-v0.3 as an example. Mistral is a 7-billion-parameter language model engineered for superior performance and efficiency. The more details about Mistral can be found in following ways:\n",
    "\n",
    "[paper](https://arxiv.org/abs/2310.06825) [blog](https://huggingface.co/mistralai/Mistral-7B-v0.3) [official-code](https://github.com/huggingface/transformers/tree/main/src/transformers/models/mistral)\n",
    "\n",
    "## Step 1. Data Loading\n",
    "Load dataset by `datasets` library. We first create a randomly generated Boolean expression dataset from [Deeper Insights Without Updates: The Power of In-Context Learning Over Fine-Tuning](https://arxiv.org/abs/2410.04691v1)"
   ]
  },
  {
   "cell_type": "code",
   "execution_count": 1,
   "metadata": {},
   "outputs": [
    {
     "name": "stderr",
     "output_type": "stream",
     "text": [
      "/data1/jyc/miniconda3/envs/icl/lib/python3.12/site-packages/tqdm/auto.py:21: TqdmWarning: IProgress not found. Please update jupyter and ipywidgets. See https://ipywidgets.readthedocs.io/en/stable/user_install.html\n",
      "  from .autonotebook import tqdm as notebook_tqdm\n"
     ]
    },
    {
     "data": {
      "text/plain": [
       "{'question': ['(True or True and True and True) or (True or False and False) and (True and True or False)',\n",
       "  '(True and True and True) and (False and True) and (True or True)',\n",
       "  '(False or True or True) or (False or False and False) and (False or False and True)',\n",
       "  '(True or False and True) and (True and False) and (True or True)',\n",
       "  '(True and False) and (True and True) and (False or False)'],\n",
       " 'answer': ['True', 'False', 'True', 'False', 'False']}"
      ]
     },
     "execution_count": 1,
     "metadata": {},
     "output_type": "execute_result"
    }
   ],
   "source": [
    "import random\n",
    "import datasets\n",
    "\n",
    "\n",
    "# Copied from https://github.com/MikaStars39/ICLvsFinetune/blob/main/src/generate_data.py\n",
    "def generate_boolean_expression(num_terms=3):\n",
    "    operators = [\"and\", \"or\"]\n",
    "    values = [\"True\", \"False\"]\n",
    "    expression = []\n",
    "\n",
    "    # Start with a random boolean value\n",
    "    expression.append(random.choice(values))\n",
    "\n",
    "    # Add operators and boolean values\n",
    "    for _ in range(num_terms - 1):\n",
    "        operator = random.choice(operators)\n",
    "        value = random.choice(values)\n",
    "        expression.append(operator)\n",
    "        expression.append(value)\n",
    "\n",
    "    # Join all parts to form the final expression\n",
    "    expression_str = \" \".join(expression)\n",
    "    return expression_str, eval(expression_str)\n",
    "\n",
    "\n",
    "def generate_bool_expression(\n",
    "    num_groups: int = 3,\n",
    "    num_terms: int = 4,\n",
    "    and_false: bool = False,\n",
    "    or_true: bool = False,\n",
    "    randoms: bool = False,\n",
    "    need_false: bool = False,\n",
    "):\n",
    "    if and_false == False and or_true == False and randoms == False:\n",
    "        choice = random.choice([\"False\", \"True\"])\n",
    "        if choice == \"False\":\n",
    "            and_false = True\n",
    "        else:\n",
    "            or_true = True\n",
    "\n",
    "    expression = []\n",
    "\n",
    "    for _ in range(num_groups):\n",
    "        # Determine the number of terms in this group\n",
    "        num_terms = random.randint(2, num_terms)\n",
    "        sub_expr, _ = generate_boolean_expression(num_terms)\n",
    "\n",
    "        # Add parentheses around the sub-expression\n",
    "        if len(expression) > 0:\n",
    "            operator = random.choice([\"and\", \"or\"])\n",
    "            expression.append(operator)\n",
    "        expression.append(f\"({sub_expr})\")\n",
    "\n",
    "    # Join all parts to form the final expression\n",
    "    expression_str = \" \".join(expression)\n",
    "\n",
    "    if and_false:\n",
    "        expression_str = \"(\" + expression_str + \")\" + \" and False\"\n",
    "    elif or_true:\n",
    "        expression_str = expression_str + \" or True\"\n",
    "\n",
    "    if need_false:\n",
    "        choice = random.choice([\"False\", \"True\"])\n",
    "        if choice == \"False\":\n",
    "            expression_str = \"(\" + expression_str + \")\" + \" or False\"\n",
    "        else:\n",
    "            expression_str = \"(\" + expression_str + \")\" + \" and True\"\n",
    "\n",
    "    return expression_str, eval(expression_str)\n",
    "\n",
    "\n",
    "def generate_dataset(\n",
    "    example_number: int,\n",
    "):\n",
    "    all_data = []\n",
    "    for _ in range(example_number):\n",
    "        question, answer = generate_bool_expression(randoms=True)\n",
    "        answer = \"True\" if answer == 1 else \"False\"\n",
    "        all_data.append({\"question\": question, \"answer\": answer})\n",
    "\n",
    "    return all_data\n",
    "\n",
    "dataset = datasets.Dataset.from_list(generate_dataset(200))\n",
    "dataset[range(5)]"
   ]
  },
  {
   "cell_type": "code",
   "execution_count": 2,
   "metadata": {},
   "outputs": [],
   "source": [
    "import torch\n",
    "import sys\n",
    "\n",
    "sys.path.insert(0, \"..\")\n",
    "from testbed.data import prepare_dataloader\n",
    "\n",
    "mistral_7b_path = \"/data1/share/Mistral-7b\"\n",
    "\n",
    "hparams = {\n",
    "    \"batch_size\": 2,\n",
    "    \"num_shots\": 2,\n",
    "    \"dtype\": torch.float16,\n",
    "    \"generate_args\": {\"num_beams\": 3, \"max_new_tokens\": 5},\n",
    "}\n",
    "\n",
    "dataloader = prepare_dataloader(\n",
    "    dataset,\n",
    "    batch_size=hparams[\"batch_size\"],\n",
    "    num_shots=hparams[\"num_shots\"],\n",
    "    shuffle=True,\n",
    ")"
   ]
  },
  {
   "cell_type": "markdown",
   "metadata": {},
   "source": [
    "## Step 2. Model Building\n",
    "The model in ICLTestbed can be roughly regarded as a simple combination of a processor and a specific model. You can access underlying processor or model by `model.processor` or `model.model`."
   ]
  },
  {
   "cell_type": "code",
   "execution_count": 3,
   "metadata": {},
   "outputs": [
    {
     "name": "stderr",
     "output_type": "stream",
     "text": [
      "Loading checkpoint shards: 100%|██████████| 3/3 [00:02<00:00,  1.48it/s]\n"
     ]
    }
   ],
   "source": [
    "from testbed.models import Mistral\n",
    "import torch\n",
    "\n",
    "device = torch.device(\"cpu\")\n",
    "model = Mistral(mistral_7b_path, torch_dtype=hparams[\"dtype\"]).to(device)"
   ]
  },
  {
   "cell_type": "markdown",
   "metadata": {},
   "source": [
    "## Step 3. Inference\n",
    "If you need to use your own prompt template, you should do it here. Suppose we want to use the following template:\n",
    "```\n",
    "Question: <question> Answer: <answer>\n",
    "```\n",
    "The prompt template in ICLTestbed is an alias for chat template from huggingface (not familiar? see [Chat Templating](https://huggingface.co/docs/transformers/main/chat_templating)). The model input here should usually be a `list` of `dict`, referred as `messages` in prompt template. For example, for a 1-shot context, \n",
    "```python\n",
    "[\n",
    "    {\n",
    "        \"role\": \"question\",\n",
    "        \"content\": [\n",
    "            {\n",
    "                \"type\": \"text\",\n",
    "                \"text\": \"(True and False or True) and (False and False) or (False or False)\",\n",
    "            },\n",
    "        ],\n",
    "    },\n",
    "    {\n",
    "        \"role\": \"answer\",\n",
    "        \"content\": [\n",
    "            {\n",
    "                \"type\": \"text\",\n",
    "                \"text\": \"False\",\n",
    "            },\n",
    "        ],\n",
    "    },\n",
    "    {\n",
    "        \"role\": \"\",\n",
    "        \"content\": [\n",
    "            {\n",
    "                \"type\": \"text\",\n",
    "                \"text\": \"(False or True) and (False and False) and (True and True)\",\n",
    "            },\n",
    "        ],\n",
    "    },\n",
    "    {\n",
    "        \"role\": \"answer\"\n",
    "    }\n",
    "]\n",
    "```"
   ]
  },
  {
   "cell_type": "code",
   "execution_count": 4,
   "metadata": {},
   "outputs": [],
   "source": [
    "# fmt: off\n",
    "model.prompt_template =  (\n",
    "    \"{% if messages[0]['role'] == 'instruction' %}\"\n",
    "        \"Instruction: {{ messages[0]['content'] }}\\n\"\n",
    "        \"{% set messages = messages[1:] %}\"\n",
    "    \"{% endif %}\"\n",
    "    \"{% for message in messages %}\"\n",
    "        \"{% if message['role'] != '' %}\"\n",
    "            \"{{ message['role'].capitalize() }}: \"\n",
    "        \"{%+ endif %}\"\n",
    "        \"{% if 'content' in message %}\"\n",
    "            \"{% for line in message['content'] %}\"\n",
    "                \"{% if line['type'] == 'text' %}\"\n",
    "                    \"{{ line['text'] }}\"\n",
    "                \"{% endif %}\"\n",
    "                \"{% if loop.last %}\"\n",
    "                    \"\\n\\n\"\n",
    "                \"{% endif %}\"\n",
    "            \"{% endfor %}\"\n",
    "        \"{% endif %}\"\n",
    "    \"{% endfor %}\"\n",
    ")\n",
    "# fmt: on"
   ]
  },
  {
   "cell_type": "markdown",
   "metadata": {},
   "source": [
    "Next, you need to customize a prepare input to extract the data from the dataset and form the input of the model (see example above). Luckily, you can do this with the help of `register_dataset_retriever`."
   ]
  },
  {
   "cell_type": "code",
   "execution_count": 5,
   "metadata": {},
   "outputs": [
    {
     "data": {
      "text/plain": [
       "[[{'role': 'instruction',\n",
       "   'content': 'Here are some boolean expressions, you need to directly tell the answer. If it is true, print True, else print False.'},\n",
       "  {'role': 'question',\n",
       "   'content': [{'type': 'text',\n",
       "     'text': '(True or True and True and True) or (True or False and False) and (True and True or False)'}]},\n",
       "  {'role': 'answer', 'content': [{'type': 'text', 'text': 'True'}]},\n",
       "  {'role': 'question',\n",
       "   'content': [{'type': 'text',\n",
       "     'text': '(True and True and True) and (False and True) and (True or True)'}]},\n",
       "  {'role': 'answer', 'content': [{'type': 'text', 'text': 'False'}]},\n",
       "  {'role': 'question',\n",
       "   'content': [{'type': 'text',\n",
       "     'text': '(False or True or True) or (False or False and False) and (False or False and True)'}]},\n",
       "  {'role': 'answer'}],\n",
       " [{'role': 'instruction',\n",
       "   'content': 'Here are some boolean expressions, you need to directly tell the answer. If it is true, print True, else print False.'},\n",
       "  {'role': 'question',\n",
       "   'content': [{'type': 'text',\n",
       "     'text': '(True or False and True) and (True and False) and (True or True)'}]},\n",
       "  {'role': 'answer', 'content': [{'type': 'text', 'text': 'False'}]},\n",
       "  {'role': 'question',\n",
       "   'content': [{'type': 'text',\n",
       "     'text': '(True and False) and (True and True) and (False or False)'}]},\n",
       "  {'role': 'answer', 'content': [{'type': 'text', 'text': 'False'}]},\n",
       "  {'role': 'question',\n",
       "   'content': [{'type': 'text',\n",
       "     'text': '(True and True and True and True) or (False and True and True) or (True and False)'}]},\n",
       "  {'role': 'answer'}]]"
      ]
     },
     "execution_count": 5,
     "metadata": {},
     "output_type": "execute_result"
    }
   ],
   "source": [
    "from testbed.data import register_dataset_retriever, prepare_input\n",
    "\n",
    "\n",
    "def retriever(item, is_last):\n",
    "    return [\n",
    "        {\n",
    "            \"role\": \"question\",\n",
    "            \"content\": [\n",
    "                {\n",
    "                    \"type\": \"text\",\n",
    "                    \"text\": item[\"question\"],\n",
    "                },\n",
    "            ],\n",
    "        },\n",
    "        (\n",
    "            {\"role\": \"answer\"}\n",
    "            if is_last\n",
    "            else {\n",
    "                \"role\": \"answer\",\n",
    "                \"content\": [{\"type\": \"text\", \"text\": item[\"answer\"]}],\n",
    "            }\n",
    "        ),\n",
    "    ]\n",
    "\n",
    "\n",
    "register_dataset_retriever(\"boolean\", retriever=retriever)\n",
    "prepare_input(\n",
    "    \"boolean\",\n",
    "    next(iter(dataloader)),\n",
    "    \"Here are some boolean expressions, you need to directly tell the answer. If it is true, print True, else print False.\",\n",
    ")"
   ]
  },
  {
   "cell_type": "markdown",
   "metadata": {},
   "source": [
    "\n",
    "It will be transformed to the real prompt by `model.apply_prompt_template` which is a step in `model.process_input`. `apply_prompt_template` is an alias for [`apply_chat_template`](https://huggingface.co/docs/transformers/main/chat_templating).\n",
    "\n",
    "After getting the model output, you need to do post-processing generation to clean and extract what answer should be. This is a dataset-dependent method, that is, different datasets have different post-processing styles. For our boolean expression dataset, just convert `True` to `1` and `False` to `0`."
   ]
  },
  {
   "cell_type": "code",
   "execution_count": null,
   "metadata": {},
   "outputs": [
    {
     "name": "stderr",
     "output_type": "stream",
     "text": [
      "Setting `pad_token_id` to `eos_token_id`:None for open-end generation.\n"
     ]
    },
    {
     "name": "stdout",
     "output_type": "stream",
     "text": [
      "['Question: (True or True and True and True) or (True or False and False) and (True and True or False)\\nAnswer: True\\nQuestion: (True and True and True) and (False and True) and (True or True)\\nAnswer: False\\nQuestion: (False or True or True) or (False or False and False) and (False or False and True)\\nAnswer: ']\n"
     ]
    }
   ],
   "source": [
    "from testbed.data import register_postprocess, postprocess_generation\n",
    "\n",
    "register_postprocess(\"boolean\", lambda pred: int(pred.lower() == \"true\"))\n",
    "model.processor.pad_token = model.processor.eos_token\n",
    "batch = next(iter(dataloader))\n",
    "single_context = batch[0]\n",
    "text = prepare_input(\"boolean\", [single_context])\n",
    "print(model.apply_prompt_template(text))\n",
    "raw_output = model.generate(text, **hparams[\"generate_args\"])\n",
    "print(raw_output)\n",
    "prediction = postprocess_generation(\"boolean\", raw_output)\n",
    "print(prediction)\n",
    "print(single_context[-1][\"answer\"])  # gt"
   ]
  },
  {
   "cell_type": "markdown",
   "metadata": {},
   "source": [
    "## Step 4. Evaluate\n",
    "For our task, it uses ROC AUC to evaluate, which has already been implemented in [`evaluate`](https://huggingface.co/docs/evaluate/index) library that comes from hugging face. "
   ]
  },
  {
   "cell_type": "code",
   "execution_count": null,
   "metadata": {},
   "outputs": [],
   "source": [
    "from tqdm import tqdm\n",
    "import evaluate\n",
    "\n",
    "total_roc_auc = evaluate.load(\"roc_auc\")\n",
    "result = []\n",
    "\n",
    "# for simplicity, just run 10 batches\n",
    "for i, batch in zip(\n",
    "    range(10), tqdm(dataloader, desc=f\"Evaluating {model.model_name} ...\")\n",
    "):\n",
    "    text = prepare_input(\"boolean\", batch)\n",
    "    predictions = model.generate(text, **hparams[\"generate_args\"])\n",
    "    for pred, context in zip(predictions, batch):\n",
    "        last_item = context[-1]\n",
    "        answer = last_item[\"answer\"]\n",
    "        prediction = postprocess_generation(\"boolean\", pred)\n",
    "        total_roc_auc.add(prediction_scores=prediction, references=answer)\n",
    "        result.append(\n",
    "            {\n",
    "                \"question\": pred,\n",
    "                \"answer\": last_item[\"answer\"],\n",
    "                \"prediction\": prediction,\n",
    "            }\n",
    "        )\n",
    "\n",
    "eval_result = total_roc_auc.compute()\n",
    "eval_result"
   ]
  },
  {
   "cell_type": "markdown",
   "metadata": {},
   "source": [
    "## Step 4. Save Results\n",
    "With the help of `evaluate.save`, we are able to save result and other hyper parameters to a json file."
   ]
  },
  {
   "cell_type": "code",
   "execution_count": null,
   "metadata": {},
   "outputs": [],
   "source": [
    "hparams[\"dtype\"] = str(hparams[\"dtype\"])\n",
    "evaluate.save(\"./\", eval_result=eval_result, hparams=hparams, records=result)"
   ]
  }
 ],
 "metadata": {
  "kernelspec": {
   "display_name": "icl",
   "language": "python",
   "name": "python3"
  },
  "language_info": {
   "codemirror_mode": {
    "name": "ipython",
    "version": 3
   },
   "file_extension": ".py",
   "mimetype": "text/x-python",
   "name": "python",
   "nbconvert_exporter": "python",
   "pygments_lexer": "ipython3",
   "version": "3.12.5"
  }
 },
 "nbformat": 4,
 "nbformat_minor": 2
}
