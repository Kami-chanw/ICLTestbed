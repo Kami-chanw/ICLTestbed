{
 "cells": [
  {
   "cell_type": "code",
   "execution_count": 1,
   "metadata": {},
   "outputs": [],
   "source": [
    "from datasets import load_dataset\n",
    "import sys\n",
    "\n",
    "sys.path.insert(0, \"..\")\n",
    "from testbed.data import prepare_dataloader\n",
    "import config\n",
    "\n",
    "dataset = load_dataset(\n",
    "    \"../testbed/data/coco\",\n",
    "    data_dir=config.karpathy_coco_caption_dir,\n",
    "    images_dir=config.coco_dir,\n",
    "    trust_remote_code=True,\n",
    ")\n",
    "\n",
    "hparams = {\n",
    "    \"batch_size\": 4,\n",
    "    \"num_shots\": 2,\n",
    "    \"precision\": \"bf16\",\n",
    "    \"generate_args\": {\"num_beams\": 3, \"max_new_tokens\": 15},\n",
    "}\n",
    "\n",
    "dataloader = prepare_dataloader(\n",
    "    [dataset[\"train\"], dataset[\"validation\"]],\n",
    "    batch_size=hparams[\"batch_size\"],\n",
    "    num_shots=hparams[\"num_shots\"],\n",
    "    num_per_dataset=[hparams[\"num_shots\"], 1],\n",
    "    shuffle=True,\n",
    ")"
   ]
  },
  {
   "cell_type": "code",
   "execution_count": 2,
   "metadata": {},
   "outputs": [
    {
     "data": {
      "application/vnd.jupyter.widget-view+json": {
       "model_id": "271deb65b4564ec4b4771c306611e916",
       "version_major": 2,
       "version_minor": 0
      },
      "text/plain": [
       "Loading checkpoint shards:   0%|          | 0/19 [00:00<?, ?it/s]"
      ]
     },
     "metadata": {},
     "output_type": "display_data"
    }
   ],
   "source": [
    "import sys\n",
    "sys.path.insert(0, \"..\")\n",
    "from testbed.models import Idefics\n",
    "import torch\n",
    "import config\n",
    "\n",
    "device = torch.device(\"cuda:1\")\n",
    "model = Idefics(\n",
    "    config.idefics_9b_path,\n",
    "    dtype=torch.bfloat16,\n",
    "    device=device,\n",
    ")"
   ]
  },
  {
   "cell_type": "code",
   "execution_count": 7,
   "metadata": {},
   "outputs": [
    {
     "data": {
      "text/plain": [
       "'TEXT_MODEL_LAYER'"
      ]
     },
     "execution_count": 7,
     "metadata": {},
     "output_type": "execute_result"
    }
   ],
   "source": [
    "from testbed.models.model_base import HookType\n",
    "\n",
    "\n",
    "HookType.TEXT_MODEL_LAYER.name"
   ]
  },
  {
   "cell_type": "code",
   "execution_count": 3,
   "metadata": {},
   "outputs": [
    {
     "name": "stdout",
     "output_type": "stream",
     "text": [
      "[{'image': <PIL.JpegImagePlugin.JpegImageFile image mode=RGB size=640x480 at 0x7F5B0F43ABB0>, 'filepath': 'COCO_train2014_000000057870.jpg', 'sentids': [787980, 789366, 789888, 791316, 794853], 'filename': 'COCO_train2014_000000057870.jpg', 'imgid': 40504, 'split': 'train', 'caption': 'A restaurant has modern wooden tables and chairs.', 'sentences_tokens': [['a', 'restaurant', 'has', 'modern', 'wooden', 'tables', 'and', 'chairs'], ['a', 'long', 'restaurant', 'table', 'with', 'rattan', 'rounded', 'back', 'chairs'], ['a', 'long', 'table', 'with', 'a', 'plant', 'on', 'top', 'of', 'it', 'surrounded', 'with', 'wooden', 'chairs'], ['a', 'long', 'table', 'with', 'a', 'flower', 'arrangement', 'in', 'the', 'middle', 'for', 'meetings'], ['a', 'table', 'is', 'adorned', 'with', 'wooden', 'chairs', 'with', 'blue', 'accents']], 'sentences_raw': ['A restaurant has modern wooden tables and chairs.', 'A long restaurant table with rattan rounded back chairs.', 'a long table with a plant on top of it surrounded with wooden chairs ', 'A long table with a flower arrangement in the middle for meetings', 'A table is adorned with wooden chairs with blue accents.'], 'sentences_sentid': [787980, 789366, 789888, 791316, 794853], 'cocoid': 57870}, {'image': <PIL.JpegImagePlugin.JpegImageFile image mode=RGB size=640x429 at 0x7F5B0F2F71C0>, 'filepath': 'COCO_train2014_000000384029.jpg', 'sentids': [118034, 157682, 159179, 175826, 185540], 'filename': 'COCO_train2014_000000384029.jpg', 'imgid': 40505, 'split': 'train', 'caption': 'A man preparing desserts in a kitchen covered in frosting.', 'sentences_tokens': [['a', 'man', 'preparing', 'desserts', 'in', 'a', 'kitchen', 'covered', 'in', 'frosting'], ['a', 'chef', 'is', 'preparing', 'and', 'decorating', 'many', 'small', 'pastries'], ['a', 'baker', 'prepares', 'various', 'types', 'of', 'baked', 'goods'], ['a', 'close', 'up', 'of', 'a', 'person', 'grabbing', 'a', 'pastry', 'in', 'a', 'container'], ['close', 'up', 'of', 'a', 'hand', 'touching', 'various', 'pastries']], 'sentences_raw': ['A man preparing desserts in a kitchen covered in frosting.', 'A chef is preparing and decorating many small pastries.', 'A baker prepares various types of baked goods.', 'a close up of a person grabbing a pastry in a container', 'Close up of a hand touching various pastries.'], 'sentences_sentid': [118034, 157682, 159179, 175826, 185540], 'cocoid': 384029}, {'image': <PIL.JpegImagePlugin.JpegImageFile image mode=RGB size=500x336 at 0x7F5B0F2F7160>, 'filepath': 'COCO_val2014_000000184613.jpg', 'sentids': [474921, 479322, 479334, 481560, 483594], 'filename': 'COCO_val2014_000000184613.jpg', 'imgid': 2, 'split': 'val', 'caption': 'A child holding a flowered umbrella and petting a yak.', 'sentences_tokens': [['a', 'child', 'holding', 'a', 'flowered', 'umbrella', 'and', 'petting', 'a', 'yak'], ['a', 'young', 'man', 'holding', 'an', 'umbrella', 'next', 'to', 'a', 'herd', 'of', 'cattle'], ['a', 'young', 'boy', 'barefoot', 'holding', 'an', 'umbrella', 'touching', 'the', 'horn', 'of', 'a', 'cow'], ['a', 'young', 'boy', 'with', 'an', 'umbrella', 'who', 'is', 'touching', 'the', 'horn', 'of', 'a', 'cow'], ['a', 'boy', 'holding', 'an', 'umbrella', 'while', 'standing', 'next', 'to', 'livestock']], 'sentences_raw': ['A child holding a flowered umbrella and petting a yak.', 'A young man holding an umbrella next to a herd of cattle.', 'a young boy barefoot holding an umbrella touching the horn of a cow', 'A young boy with an umbrella who is touching the horn of a cow.', 'A boy holding an umbrella while standing next to livestock.'], 'sentences_sentid': [474921, 479322, 479334, 481560, 483594], 'cocoid': 184613}]\n"
     ]
    }
   ],
   "source": [
    "from testbed.data.coco import postprocess_generation\n",
    "from testbed.data import prepare_caption_input\n",
    "\n",
    "batch = next(iter(dataloader))\n",
    "single_context = batch[0]\n",
    "print(single_context)\n",
    "# text, images = prepare_caption_input([single_context])\n",
    "# inputs = model.process_input(text, images, return_tensors=\"pt\", padding=True).to(device)\n",
    "# seq_len = inputs.input_ids.shape[-1]\n",
    "# generated_ids = model.generate(**inputs, max_new_tokens=15, num_beams=5)\n",
    "# generated_ids = generated_ids[:, seq_len:]\n",
    "# raw_output = model.processor.batch_decode(generated_ids, skip_special_tokens=True)\n",
    "# prediction = postprocess_generation(raw_output)\n",
    "# print(prediction)\n",
    "# print(single_context[-1][\"sentences_raw\"]) # gt"
   ]
  },
  {
   "cell_type": "markdown",
   "metadata": {},
   "source": [
    "## Step 4. Evaluate\n",
    "For image captioning task, it uses [CIDEr](../testbed/evaluate/metrics/CIDEr/CIDEr.py) to evaluate, which has already been implemented with [`evaluate`](https://huggingface.co/docs/evaluate/index) library that comes from hugging face. It is thoroughly tested to ensure full consistency with the [official CIDEr implementation](https://github.com/tylin/coco-caption), see [test script](../tests/CIDEr/test_CIDEr.py).\n",
    "\n",
    "Thanks to huggingface space, you can also check [here](https://huggingface.co/spaces/Kamichanw/CIDEr) to try `CIDEr` online."
   ]
  },
  {
   "cell_type": "code",
   "execution_count": 4,
   "metadata": {},
   "outputs": [
    {
     "name": "stderr",
     "output_type": "stream",
     "text": [
      "Evaluating idefics2-8b-base ...:   2%|▏         | 9/416 [00:57<43:11,  6.37s/it]\n",
      "huggingface/tokenizers: The current process just got forked, after parallelism has already been used. Disabling parallelism to avoid deadlocks...\n",
      "To disable this warning, you can either:\n",
      "\t- Avoid using `tokenizers` before the fork if possible\n",
      "\t- Explicitly set the environment variable TOKENIZERS_PARALLELISM=(true | false)\n",
      "PTBTokenizer tokenized 2871 tokens at 70512.47 tokens per second.\n"
     ]
    },
    {
     "data": {
      "text/plain": [
       "{'CIDEr': 1.2339626951654092}"
      ]
     },
     "execution_count": 4,
     "metadata": {},
     "output_type": "execute_result"
    }
   ],
   "source": [
    "from testbed.data.coco import postprocess_generation\n",
    "from testbed.data.utils import prepare_caption_input\n",
    "from tqdm import tqdm\n",
    "import evaluate\n",
    "\n",
    "total_cider = evaluate.load(\"Kamichanw/CIDEr\")\n",
    "result = []\n",
    "\n",
    "# for simplicity, just run 10 batches\n",
    "for _, batch in zip(range(10), tqdm(dataloader, desc=f\"Evaluating {model.model_name} ...\")):\n",
    "    text, images = prepare_caption_input(batch)\n",
    "    predictions = model.generate(text, images, **hparams[\"generate_args\"])\n",
    "    for pred, context in zip(predictions, batch):\n",
    "        last_cap = context[-1]\n",
    "        gt_captions = last_cap[\"sentences_raw\"]\n",
    "        prediction = postprocess_generation(pred)\n",
    "        total_cider.add(prediction=prediction, reference=gt_captions)\n",
    "        result.append(\n",
    "            {\n",
    "                \"cocoid\": last_cap[\"cocoid\"],\n",
    "                \"raw_output\": pred,\n",
    "                \"filename\": last_cap[\"filename\"],\n",
    "                \"sentences\": last_cap[\"sentences_raw\"],\n",
    "                \"prediction\": prediction,\n",
    "            }\n",
    "        )\n",
    "\n",
    "eval_result = total_cider.compute()\n",
    "eval_result"
   ]
  },
  {
   "cell_type": "code",
   "execution_count": 13,
   "metadata": {},
   "outputs": [
    {
     "name": "stderr",
     "output_type": "stream",
     "text": [
      "huggingface/tokenizers: The current process just got forked, after parallelism has already been used. Disabling parallelism to avoid deadlocks...\n",
      "To disable this warning, you can either:\n",
      "\t- Avoid using `tokenizers` before the fork if possible\n",
      "\t- Explicitly set the environment variable TOKENIZERS_PARALLELISM=(true | false)\n",
      "PTBTokenizer tokenized 5 tokens at 157.56 tokens per second.\n"
     ]
    },
    {
     "data": {
      "text/plain": [
       "{123: ['i love you']}"
      ]
     },
     "execution_count": 13,
     "metadata": {},
     "output_type": "execute_result"
    }
   ],
   "source": [
    "from pycocoevalcap.tokenizer.ptbtokenizer import PTBTokenizer\n",
    "tokenizer = PTBTokenizer()\n",
    "tokenizer.tokenize({\n",
    "    123:[{\"caption\":\"I love \\\"you\\\" \\n\\n\"}]\n",
    "})"
   ]
  },
  {
   "cell_type": "code",
   "execution_count": 10,
   "metadata": {},
   "outputs": [
    {
     "name": "stderr",
     "output_type": "stream",
     "text": [
      "huggingface/tokenizers: The current process just got forked, after parallelism has already been used. Disabling parallelism to avoid deadlocks...\n",
      "To disable this warning, you can either:\n",
      "\t- Avoid using `tokenizers` before the fork if possible\n",
      "\t- Explicitly set the environment variable TOKENIZERS_PARALLELISM=(true | false)\n",
      "PTBTokenizer tokenized 2868 tokens at 70648.06 tokens per second.\n"
     ]
    },
    {
     "name": "stdout",
     "output_type": "stream",
     "text": [
      "{'CIDEr': 1.2495354617821606}\n"
     ]
    }
   ],
   "source": [
    "import json\n",
    "import evaluate\n",
    "\n",
    "result = json.load(open(\"result3.json\", \"r\"))\n",
    "cider = evaluate.load(\"Kamichanw/CIDEr\")\n",
    "for item in result:\n",
    "    item[\"caption\"] = item[\"caption\"].split(\"\\n\", 1)[0]\n",
    "    cider.add(prediction=item[\"caption\"], reference=item[\"sentences\"])\n",
    "\n",
    "print(cider.compute())\n",
    "json.dump(result, open(\"result3.json\", \"w\"))"
   ]
  },
  {
   "cell_type": "markdown",
   "metadata": {},
   "source": [
    "## Step 4. Save Results\n",
    "With the help of `evaluate.save`, we are able to save result and other hyper parameters to a json file."
   ]
  },
  {
   "cell_type": "code",
   "execution_count": 5,
   "metadata": {},
   "outputs": [
    {
     "name": "stderr",
     "output_type": "stream",
     "text": [
      "huggingface/tokenizers: The current process just got forked, after parallelism has already been used. Disabling parallelism to avoid deadlocks...\n",
      "To disable this warning, you can either:\n",
      "\t- Avoid using `tokenizers` before the fork if possible\n",
      "\t- Explicitly set the environment variable TOKENIZERS_PARALLELISM=(true | false)\n",
      "huggingface/tokenizers: The current process just got forked, after parallelism has already been used. Disabling parallelism to avoid deadlocks...\n",
      "To disable this warning, you can either:\n",
      "\t- Avoid using `tokenizers` before the fork if possible\n",
      "\t- Explicitly set the environment variable TOKENIZERS_PARALLELISM=(true | false)\n"
     ]
    },
    {
     "data": {
      "text/plain": [
       "PosixPath('result-2024_08_15-07_21_01.json')"
      ]
     },
     "execution_count": 5,
     "metadata": {},
     "output_type": "execute_result"
    }
   ],
   "source": [
    "evaluate.save(\"./\", eval_result=eval_result, hparams=hparams, records=result)"
   ]
  }
 ],
 "metadata": {
  "kernelspec": {
   "display_name": "icl",
   "language": "python",
   "name": "python3"
  },
  "language_info": {
   "codemirror_mode": {
    "name": "ipython",
    "version": 3
   },
   "file_extension": ".py",
   "mimetype": "text/x-python",
   "name": "python",
   "nbconvert_exporter": "python",
   "pygments_lexer": "ipython3",
   "version": "3.9.19"
  }
 },
 "nbformat": 4,
 "nbformat_minor": 2
}
