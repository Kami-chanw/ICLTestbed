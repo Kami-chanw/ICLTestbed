{
 "cells": [
  {
   "cell_type": "code",
   "execution_count": 3,
   "metadata": {},
   "outputs": [
    {
     "name": "stderr",
     "output_type": "stream",
     "text": [
      "/home/jyc/miniconda3/envs/icl/lib/python3.9/site-packages/transformers/tokenization_utils_base.py:1601: FutureWarning: `clean_up_tokenization_spaces` was not set. It will be set to `True` by default. This behavior will be depracted in transformers v4.45, and will be then set to `False` by default. For more details check this issue: https://github.com/huggingface/transformers/issues/31884\n",
      "  warnings.warn(\n"
     ]
    }
   ],
   "source": [
    "from transformers import CLIPProcessor, CLIPTextModelWithProjection, AutoTokenizer\n",
    "import torch\n",
    "from PIL import Image\n",
    "\n",
    "device = torch.device(\"cuda:0\")\n",
    "model = CLIPTextModelWithProjection.from_pretrained(\n",
    "    \"/home/share/pyz/model_weight/clip-vit-base-patch32\"\n",
    ").to(device)\n",
    "tokenizer = AutoTokenizer.from_pretrained(\n",
    "    \"/home/share/pyz/model_weight/clip-vit-base-patch32\"\n",
    ")"
   ]
  },
  {
   "cell_type": "code",
   "execution_count": 6,
   "metadata": {},
   "outputs": [
    {
     "data": {
      "application/vnd.jupyter.widget-view+json": {
       "model_id": "6af90a541de24a8d88942238316b4b51",
       "version_major": 2,
       "version_minor": 0
      },
      "text/plain": [
       "Loading checkpoint shards:   0%|          | 0/4 [00:00<?, ?it/s]"
      ]
     },
     "metadata": {},
     "output_type": "display_data"
    },
    {
     "name": "stderr",
     "output_type": "stream",
     "text": [
      "The attention mask and the pad token id were not set. As a consequence, you may observe unexpected behavior. Please pass your input's `attention_mask` to obtain reliable results.\n",
      "Setting `pad_token_id` to `eos_token_id`:128001 for open-end generation.\n"
     ]
    },
    {
     "data": {
      "text/plain": [
       "'Hey, are you conscious? Can you talk to me? Do you feel pain?\\nThis is a typical conversation between a human and a person with a brain injury'"
      ]
     },
     "execution_count": 6,
     "metadata": {},
     "output_type": "execute_result"
    }
   ],
   "source": [
    "import sys\n",
    "\n",
    "sys.path.insert(0, \"..\")\n",
    "import config\n",
    "import torch\n",
    "from transformers import AutoTokenizer, LlamaForCausalLM, AutoModelForCausalLM\n",
    "\n",
    "device = torch.device(\"cuda:3\")\n",
    "model = AutoModel.from_pretrained(\n",
    "    config.llama_3_1_8b_instruct_path, torch_dtype=torch.float16, device_map=device\n",
    ")\n",
    "tokenizer = AutoTokenizer.from_pretrained(\n",
    "    config.llama_3_1_8b_instruct_path, torch_dtype=torch.float16\n",
    ")\n",
    "\n"
   ]
  },
  {
   "cell_type": "code",
   "execution_count": 7,
   "metadata": {},
   "outputs": [
    {
     "name": "stderr",
     "output_type": "stream",
     "text": [
      "The attention mask and the pad token id were not set. As a consequence, you may observe unexpected behavior. Please pass your input's `attention_mask` to obtain reliable results.\n",
      "Setting `pad_token_id` to `eos_token_id`:128001 for open-end generation.\n"
     ]
    },
    {
     "data": {
      "text/plain": [
       "\"Hey, are you conscious? Can you talk to me? Can you tell me what you're feeling right now? Can you tell me what you're thinking?\""
      ]
     },
     "execution_count": 7,
     "metadata": {},
     "output_type": "execute_result"
    }
   ],
   "source": [
    "prompt = \"Hey, are you conscious? Can you talk to me?\"\n",
    "inputs = tokenizer(prompt, return_tensors=\"pt\").to(device)\n",
    "\n",
    "# Generate\n",
    "generate_ids = model.generate(inputs.input_ids, max_new_tokens=20)\n",
    "tokenizer.batch_decode(\n",
    "    generate_ids, skip_special_tokens=True, clean_up_tokenization_spaces=False\n",
    ")[0]"
   ]
  },
  {
   "cell_type": "code",
   "execution_count": null,
   "metadata": {},
   "outputs": [],
   "source": [
    "tokenzier(\n",
    "                x[text_field], padding=True, return_tensors=\"pt\", truncation=True\n",
    "            )\n",
    "\n",
    "features = self.text_encoder(\n",
    "                input_ids=batch_data[\"input_ids\"].to(self.device),\n",
    "                attention_mask=batch_data[\"attention_mask\"].to(self.device),\n",
    "            ).text_embeds"
   ]
  },
  {
   "cell_type": "code",
   "execution_count": 29,
   "metadata": {},
   "outputs": [
    {
     "data": {
      "text/plain": [
       "BaseModelOutputWithPooling(last_hidden_state=tensor([[[ 0.3393,  0.1165,  0.1020,  ...,  0.2468,  0.5906,  0.1013],\n",
       "         [ 1.9753, -0.5844,  0.3685,  ...,  1.1658,  0.8050, -0.9801],\n",
       "         [ 1.0580, -0.9600,  1.0018,  ..., -0.5155, -0.1437, -1.9444],\n",
       "         ...,\n",
       "         [ 0.3059, -1.5037, -0.4022,  ..., -0.0224,  0.9105, -0.3916],\n",
       "         [ 1.0118, -0.6701,  1.7742,  ..., -0.1556, -0.0250, -1.5062],\n",
       "         [-0.5152,  0.1658,  0.8876,  ..., -0.0675, -0.4551, -1.7960]],\n",
       "\n",
       "        [[ 0.3393,  0.1165,  0.1020,  ...,  0.2468,  0.5906,  0.1013],\n",
       "         [ 1.9753, -0.5844,  0.3685,  ...,  1.1658,  0.8050, -0.9801],\n",
       "         [ 1.0580, -0.9600,  1.0018,  ..., -0.5155, -0.1437, -1.9444],\n",
       "         ...,\n",
       "         [ 0.3059, -1.5037, -0.4022,  ..., -0.0224,  0.9105, -0.3916],\n",
       "         [-0.1433, -0.5163,  1.7099,  ..., -0.0795,  0.3609, -1.2437],\n",
       "         [ 0.0426,  0.0189,  1.2740,  ..., -0.4217, -0.4393, -1.3016]]],\n",
       "       device='cuda:0'), pooler_output=tensor([[-0.5152,  0.1658,  0.8876,  ..., -0.0675, -0.4551, -1.7960],\n",
       "        [ 0.0426,  0.0189,  1.2740,  ..., -0.4217, -0.4393, -1.3016]],\n",
       "       device='cuda:0'), hidden_states=None, attentions=None)"
      ]
     },
     "execution_count": 29,
     "metadata": {},
     "output_type": "execute_result"
    }
   ],
   "source": [
    "texts = [\"a photo of a cat\", \"a photo of a dog\"]\n",
    "inputs = processor(text=texts, return_tensors=\"pt\", padding=True).to(torch.device(\"cuda:0\"))\n",
    "with torch.no_grad():\n",
    "    outputs = model.get\n",
    "outputs"
   ]
  }
 ],
 "metadata": {
  "kernelspec": {
   "display_name": "icl",
   "language": "python",
   "name": "python3"
  },
  "language_info": {
   "codemirror_mode": {
    "name": "ipython",
    "version": 3
   },
   "file_extension": ".py",
   "mimetype": "text/x-python",
   "name": "python",
   "nbconvert_exporter": "python",
   "pygments_lexer": "ipython3",
   "version": "3.9.19"
  }
 },
 "nbformat": 4,
 "nbformat_minor": 2
}
